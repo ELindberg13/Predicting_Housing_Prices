{
 "cells": [
  {
   "cell_type": "markdown",
   "metadata": {},
   "source": [
    "# Basic Linear Regression Model"
   ]
  },
  {
   "cell_type": "markdown",
   "metadata": {},
   "source": [
    "12 features that I think make the most difference in house price\n",
    "\n",
    "| Model Features | --- | --- | --- |---|\n",
    "| --- | --- |--- | --- |---|\n",
    "| **Numeric** | --- |--- | --- |---|\n",
    "| Lot Area | Overall Condition | Overall Qual | Garage Area | Total Bathrooms |\n",
    "| Year Remod/Add | Total SF |--- | --- |---|\n",
    "| **Catagorical** | --- | --- | --- |---|\n",
    "| MS SubClass | Neighborhood | Condition 1 | Exter Qual | Kitchen Qual |\n",
    "| --- | --- |--- | --- |---|"
   ]
  },
  {
   "cell_type": "code",
   "execution_count": 1,
   "metadata": {},
   "outputs": [],
   "source": [
    "#importing libraries\n",
    "import numpy as np\n",
    "import seaborn as sns\n",
    "import matplotlib.pyplot as plt\n",
    "import pandas as pd\n",
    "import statsmodels.api as sm\n",
    "\n",
    "from sklearn.linear_model import LinearRegression\n",
    "from sklearn.model_selection import train_test_split, cross_val_score\n",
    "from sklearn import metrics\n",
    "#import re"
   ]
  },
  {
   "cell_type": "markdown",
   "metadata": {},
   "source": [
    "# Data Dictionary - [Link](http://jse.amstat.org/v19n3/decock/DataDocumentation.txt) "
   ]
  },
  {
   "cell_type": "code",
   "execution_count": 2,
   "metadata": {},
   "outputs": [],
   "source": [
    "#importing complete training data\n",
    "housing_data = pd.read_csv(\"../datasets/complete_training_data.csv\")\n",
    "#importing testing data\n",
    "testing_data = pd.read_csv(\"../datasets/complete_kaggle_test.csv\")"
   ]
  },
  {
   "cell_type": "code",
   "execution_count": 3,
   "metadata": {},
   "outputs": [
    {
     "data": {
      "text/plain": [
       "Index(['Id', 'PID', 'MS SubClass', 'MS Zoning', 'Lot Frontage', 'Lot Area',\n",
       "       'Street', 'Alley', 'Lot Shape', 'Land Contour', 'Utilities',\n",
       "       'Lot Config', 'Land Slope', 'Neighborhood', 'Condition 1',\n",
       "       'Condition 2', 'Bldg Type', 'House Style', 'Overall Qual',\n",
       "       'Overall Cond', 'Year Built', 'Year Remod/Add', 'Roof Style',\n",
       "       'Roof Matl', 'Exterior 1st', 'Exterior 2nd', 'Mas Vnr Type',\n",
       "       'Mas Vnr Area', 'Exter Qual', 'Exter Cond', 'Foundation', 'Bsmt Qual',\n",
       "       'Bsmt Cond', 'Bsmt Exposure', 'BsmtFin Type 1', 'BsmtFin SF 1',\n",
       "       'BsmtFin Type 2', 'BsmtFin SF 2', 'Bsmt Unf SF', 'Total Bsmt SF',\n",
       "       'Heating', 'Heating QC', 'Central Air', 'Electrical', '1st Flr SF',\n",
       "       '2nd Flr SF', 'Low Qual Fin SF', 'Gr Liv Area', 'Bsmt Full Bath',\n",
       "       'Bsmt Half Bath', 'Full Bath', 'Half Bath', 'Bedroom AbvGr',\n",
       "       'Kitchen AbvGr', 'Kitchen Qual', 'TotRms AbvGrd', 'Functional',\n",
       "       'Fireplaces', 'Fireplace Qu', 'Garage Type', 'Garage Yr Blt',\n",
       "       'Garage Finish', 'Garage Cars', 'Garage Area', 'Garage Qual',\n",
       "       'Garage Cond', 'Paved Drive', 'Wood Deck SF', 'Open Porch SF',\n",
       "       'Enclosed Porch', '3Ssn Porch', 'Screen Porch', 'Pool Area', 'Pool QC',\n",
       "       'Fence', 'Misc Feature', 'Misc Val', 'Mo Sold', 'Yr Sold', 'Sale Type',\n",
       "       'SalePrice', 'Total SF', 'Total Bathrooms', 'Overall Qual x Total SF',\n",
       "       'Total SF x Garage Area', 'Overall Qual^2', 'Year Remod/Add x Total SF',\n",
       "       'Total SF^2', 'Overall Qual x Garage Area',\n",
       "       'Overall Qual x Total Bathrooms', 'Total SF x Total Bathrooms',\n",
       "       'Overall Qual x Year Remod/Add', 'Total Bathrooms x Garage Area'],\n",
       "      dtype='object')"
      ]
     },
     "execution_count": 3,
     "metadata": {},
     "output_type": "execute_result"
    }
   ],
   "source": [
    "housing_data.columns"
   ]
  },
  {
   "cell_type": "code",
   "execution_count": 4,
   "metadata": {},
   "outputs": [],
   "source": [
    "ms_subclass_dummies = pd.get_dummies(housing_data[\"MS SubClass\"],prefix=\"SubClass\")\n",
    "ms_subclass_dummies.drop(columns=[\"SubClass_150\",\"SubClass_40\"],inplace=True)\n",
    "\n",
    "neighborhood_dummies = pd.get_dummies(housing_data[\"Neighborhood\"])\n",
    "neighborhood_dummies.drop(columns=[\"Landmrk\",\"GrnHill\",\"Greens\",\"Blueste\"],inplace=True)\n",
    "\n",
    "condition_1_dummies = pd.get_dummies(housing_data[\"Condition 1\"])\n",
    "condition_1_dummies.drop(columns=[\"RRNe\",\"RRNn\"],inplace=True)\n",
    "\n",
    "exter_qual_dummies = pd.get_dummies(housing_data[\"Exter Qual\"],prefix=\"ExQ\")\n",
    "exter_qual_dummies.drop(columns=\"ExQ_Fa\",inplace=True)\n",
    "\n",
    "kitchen_qual_dummies = pd.get_dummies(housing_data[\"Kitchen Qual\"],prefix=\"Kit\")\n",
    "kitchen_qual_dummies.drop(columns=\"Kit_Fa\",inplace=True)"
   ]
  },
  {
   "cell_type": "code",
   "execution_count": 5,
   "metadata": {},
   "outputs": [],
   "source": [
    "xvars = [\"Lot Area\",\"Overall Cond\",\"Overall Qual\",\"Total SF\",\"Garage Area\",\"Year Remod/Add\",\"Total Bathrooms\"]"
   ]
  },
  {
   "cell_type": "code",
   "execution_count": 6,
   "metadata": {},
   "outputs": [],
   "source": [
    "X = housing_data[xvars]\n",
    "y = housing_data[\"SalePrice\"]"
   ]
  },
  {
   "cell_type": "code",
   "execution_count": 7,
   "metadata": {},
   "outputs": [],
   "source": [
    "#creating matrix for xvars and dummy cells\n",
    "X = pd.concat([X,\n",
    "ms_subclass_dummies,\n",
    "neighborhood_dummies,\n",
    "condition_1_dummies,\n",
    "exter_qual_dummies,\n",
    "kitchen_qual_dummies\n",
    "              ], axis=1)"
   ]
  },
  {
   "cell_type": "code",
   "execution_count": 8,
   "metadata": {},
   "outputs": [],
   "source": [
    "#spliting the data 80% train, 20% test\n",
    "X_train, X_test, y_train, y_test = train_test_split(X, y, test_size=0.2,random_state=2020)"
   ]
  },
  {
   "cell_type": "code",
   "execution_count": 9,
   "metadata": {},
   "outputs": [],
   "source": [
    "linreg = LinearRegression()"
   ]
  },
  {
   "cell_type": "code",
   "execution_count": 10,
   "metadata": {},
   "outputs": [
    {
     "data": {
      "text/plain": [
       "LinearRegression()"
      ]
     },
     "execution_count": 10,
     "metadata": {},
     "output_type": "execute_result"
    }
   ],
   "source": [
    "linreg.fit(X_train,y_train)"
   ]
  },
  {
   "cell_type": "code",
   "execution_count": 11,
   "metadata": {},
   "outputs": [
    {
     "data": {
      "text/plain": [
       "0.8973593002549061"
      ]
     },
     "execution_count": 11,
     "metadata": {},
     "output_type": "execute_result"
    }
   ],
   "source": [
    "#looking at 5 part cross validation on traing data. The R2 is quite good at 0.90\n",
    "linreg_scores = cross_val_score(linreg, X_train, y_train, cv=5)\n",
    "linreg_scores.mean()"
   ]
  },
  {
   "cell_type": "code",
   "execution_count": 12,
   "metadata": {},
   "outputs": [
    {
     "data": {
      "text/plain": [
       "0.9065190790030951"
      ]
     },
     "metadata": {},
     "output_type": "display_data"
    },
    {
     "data": {
      "text/plain": [
       "0.8732924121487826"
      ]
     },
     "metadata": {},
     "output_type": "display_data"
    }
   ],
   "source": [
    "display(linreg.score(X_train,y_train))\n",
    "display(linreg.score(X_test,y_test))"
   ]
  },
  {
   "cell_type": "code",
   "execution_count": 13,
   "metadata": {},
   "outputs": [],
   "source": [
    "X_train_sm = X_train\n",
    "X_train_sm = sm.add_constant(X_train_sm)\n",
    "y_train_sm = y_train"
   ]
  },
  {
   "cell_type": "code",
   "execution_count": 14,
   "metadata": {},
   "outputs": [],
   "source": [
    "sm_model = sm.OLS(y_train_sm,X_train_sm).fit()"
   ]
  },
  {
   "cell_type": "code",
   "execution_count": 15,
   "metadata": {},
   "outputs": [],
   "source": [
    "results_summary = sm_model.summary()"
   ]
  },
  {
   "cell_type": "code",
   "execution_count": 16,
   "metadata": {},
   "outputs": [
    {
     "data": {
      "text/html": [
       "<table class=\"simpletable\">\n",
       "<caption>OLS Regression Results</caption>\n",
       "<tr>\n",
       "  <th>Dep. Variable:</th>        <td>SalePrice</td>    <th>  R-squared:         </th> <td>   0.907</td> \n",
       "</tr>\n",
       "<tr>\n",
       "  <th>Model:</th>                   <td>OLS</td>       <th>  Adj. R-squared:    </th> <td>   0.903</td> \n",
       "</tr>\n",
       "<tr>\n",
       "  <th>Method:</th>             <td>Least Squares</td>  <th>  F-statistic:       </th> <td>   260.7</td> \n",
       "</tr>\n",
       "<tr>\n",
       "  <th>Date:</th>             <td>Sun, 16 Aug 2020</td> <th>  Prob (F-statistic):</th>  <td>  0.00</td>  \n",
       "</tr>\n",
       "<tr>\n",
       "  <th>Time:</th>                 <td>18:08:14</td>     <th>  Log-Likelihood:    </th> <td> -18640.</td> \n",
       "</tr>\n",
       "<tr>\n",
       "  <th>No. Observations:</th>      <td>  1618</td>      <th>  AIC:               </th> <td>3.740e+04</td>\n",
       "</tr>\n",
       "<tr>\n",
       "  <th>Df Residuals:</th>          <td>  1559</td>      <th>  BIC:               </th> <td>3.772e+04</td>\n",
       "</tr>\n",
       "<tr>\n",
       "  <th>Df Model:</th>              <td>    58</td>      <th>                     </th>     <td> </td>    \n",
       "</tr>\n",
       "<tr>\n",
       "  <th>Covariance Type:</th>      <td>nonrobust</td>    <th>                     </th>     <td> </td>    \n",
       "</tr>\n",
       "</table>"
      ],
      "text/plain": [
       "<class 'statsmodels.iolib.table.SimpleTable'>"
      ]
     },
     "execution_count": 16,
     "metadata": {},
     "output_type": "execute_result"
    }
   ],
   "source": [
    "results_summary.tables[0]"
   ]
  },
  {
   "cell_type": "code",
   "execution_count": 17,
   "metadata": {},
   "outputs": [],
   "source": [
    "results_as_html = results_summary.tables[1].as_html()\n",
    "coef = pd.read_html(results_as_html, header=0, index_col=0)[0]"
   ]
  },
  {
   "cell_type": "code",
   "execution_count": 18,
   "metadata": {},
   "outputs": [
    {
     "data": {
      "text/html": [
       "<div>\n",
       "<style scoped>\n",
       "    .dataframe tbody tr th:only-of-type {\n",
       "        vertical-align: middle;\n",
       "    }\n",
       "\n",
       "    .dataframe tbody tr th {\n",
       "        vertical-align: top;\n",
       "    }\n",
       "\n",
       "    .dataframe thead th {\n",
       "        text-align: right;\n",
       "    }\n",
       "</style>\n",
       "<table border=\"1\" class=\"dataframe\">\n",
       "  <thead>\n",
       "    <tr style=\"text-align: right;\">\n",
       "      <th></th>\n",
       "      <th>coef</th>\n",
       "      <th>std err</th>\n",
       "      <th>t</th>\n",
       "      <th>P&gt;|t|</th>\n",
       "      <th>[0.025</th>\n",
       "      <th>0.975]</th>\n",
       "    </tr>\n",
       "  </thead>\n",
       "  <tbody>\n",
       "    <tr>\n",
       "      <th>const</th>\n",
       "      <td>-323400.0000</td>\n",
       "      <td>97700.000</td>\n",
       "      <td>-3.309</td>\n",
       "      <td>0.001</td>\n",
       "      <td>-515000.000</td>\n",
       "      <td>-132000.000</td>\n",
       "    </tr>\n",
       "    <tr>\n",
       "      <th>Lot Area</th>\n",
       "      <td>2.0067</td>\n",
       "      <td>0.248</td>\n",
       "      <td>8.106</td>\n",
       "      <td>0.000</td>\n",
       "      <td>1.521</td>\n",
       "      <td>2.492</td>\n",
       "    </tr>\n",
       "    <tr>\n",
       "      <th>Overall Cond</th>\n",
       "      <td>4982.0127</td>\n",
       "      <td>705.249</td>\n",
       "      <td>7.064</td>\n",
       "      <td>0.000</td>\n",
       "      <td>3598.676</td>\n",
       "      <td>6365.349</td>\n",
       "    </tr>\n",
       "    <tr>\n",
       "      <th>Overall Qual</th>\n",
       "      <td>9892.2874</td>\n",
       "      <td>904.906</td>\n",
       "      <td>10.932</td>\n",
       "      <td>0.000</td>\n",
       "      <td>8117.327</td>\n",
       "      <td>11700.000</td>\n",
       "    </tr>\n",
       "    <tr>\n",
       "      <th>Total SF</th>\n",
       "      <td>33.7703</td>\n",
       "      <td>1.473</td>\n",
       "      <td>22.923</td>\n",
       "      <td>0.000</td>\n",
       "      <td>30.881</td>\n",
       "      <td>36.660</td>\n",
       "    </tr>\n",
       "    <tr>\n",
       "      <th>Garage Area</th>\n",
       "      <td>24.3281</td>\n",
       "      <td>4.217</td>\n",
       "      <td>5.769</td>\n",
       "      <td>0.000</td>\n",
       "      <td>16.057</td>\n",
       "      <td>32.599</td>\n",
       "    </tr>\n",
       "    <tr>\n",
       "      <th>Year Remod/Add</th>\n",
       "      <td>134.8438</td>\n",
       "      <td>49.457</td>\n",
       "      <td>2.726</td>\n",
       "      <td>0.006</td>\n",
       "      <td>37.834</td>\n",
       "      <td>231.853</td>\n",
       "    </tr>\n",
       "    <tr>\n",
       "      <th>Total Bathrooms</th>\n",
       "      <td>11310.0000</td>\n",
       "      <td>1176.062</td>\n",
       "      <td>9.620</td>\n",
       "      <td>0.000</td>\n",
       "      <td>9006.480</td>\n",
       "      <td>13600.000</td>\n",
       "    </tr>\n",
       "  </tbody>\n",
       "</table>\n",
       "</div>"
      ],
      "text/plain": [
       "                        coef    std err       t  P>|t|      [0.025      0.975]\n",
       "const           -323400.0000  97700.000  -3.309  0.001 -515000.000 -132000.000\n",
       "Lot Area              2.0067      0.248   8.106  0.000       1.521       2.492\n",
       "Overall Cond       4982.0127    705.249   7.064  0.000    3598.676    6365.349\n",
       "Overall Qual       9892.2874    904.906  10.932  0.000    8117.327   11700.000\n",
       "Total SF             33.7703      1.473  22.923  0.000      30.881      36.660\n",
       "Garage Area          24.3281      4.217   5.769  0.000      16.057      32.599\n",
       "Year Remod/Add      134.8438     49.457   2.726  0.006      37.834     231.853\n",
       "Total Bathrooms   11310.0000   1176.062   9.620  0.000    9006.480   13600.000"
      ]
     },
     "execution_count": 18,
     "metadata": {},
     "output_type": "execute_result"
    }
   ],
   "source": [
    "coef.head(8)"
   ]
  },
  {
   "cell_type": "markdown",
   "metadata": {},
   "source": [
    "### Conclusions from modeling"
   ]
  },
  {
   "cell_type": "markdown",
   "metadata": {},
   "source": [
    "The train score for this model is 0.90 (test score is 0.878). I think that this model could fit the data better but it is a good start set as the bench mark. This model is also very interperable which is a nice feature."
   ]
  },
  {
   "cell_type": "markdown",
   "metadata": {},
   "source": [
    "### Calculating sales prices in training data (need to output .csv w/ header Id,SalePrice)"
   ]
  },
  {
   "cell_type": "code",
   "execution_count": 19,
   "metadata": {},
   "outputs": [],
   "source": [
    "X_kaggle = testing_data[xvars]"
   ]
  },
  {
   "cell_type": "code",
   "execution_count": 20,
   "metadata": {},
   "outputs": [],
   "source": [
    "kaggle_ms_subclass_dummies = pd.get_dummies(testing_data[\"MS SubClass\"],prefix=\"SubClass\")\n",
    "kaggle_ms_subclass_dummies.drop(columns=[\"SubClass_40\"],inplace=True)\n",
    "\n",
    "kaggle_neighborhood_dummies = pd.get_dummies(testing_data[\"Neighborhood\"])\n",
    "kaggle_neighborhood_dummies.drop(columns=[\"Greens\",\"Blueste\"],inplace=True)\n",
    "\n",
    "kaggle_condition_1_dummies = pd.get_dummies(testing_data[\"Condition 1\"])\n",
    "kaggle_condition_1_dummies.drop(columns=[\"RRNe\",\"RRNn\"],inplace=True)\n",
    "\n",
    "kaggle_exter_qual_dummies = pd.get_dummies(testing_data[\"Exter Qual\"],prefix=\"ExQ\")\n",
    "kaggle_exter_qual_dummies.drop(columns=\"ExQ_Fa\",inplace=True)\n",
    "\n",
    "kaggle_kitchen_qual_dummies = pd.get_dummies(testing_data[\"Kitchen Qual\"],prefix=\"Kit\")\n",
    "kaggle_kitchen_qual_dummies.drop(columns=[\"Kit_Fa\",\"Kit_Po\"],inplace=True)"
   ]
  },
  {
   "cell_type": "code",
   "execution_count": 21,
   "metadata": {},
   "outputs": [],
   "source": [
    "#creating matrix for xvars and dummy cells\n",
    "X_kaggle = pd.concat([X_kaggle,\n",
    "kaggle_ms_subclass_dummies,\n",
    "kaggle_neighborhood_dummies,\n",
    "kaggle_condition_1_dummies,\n",
    "kaggle_exter_qual_dummies,\n",
    "kaggle_kitchen_qual_dummies\n",
    "              ], axis=1)"
   ]
  },
  {
   "cell_type": "code",
   "execution_count": 22,
   "metadata": {},
   "outputs": [],
   "source": [
    "#finding differences between train and testing data columns. They need to match for fit to make sense\n",
    "for i,x in enumerate(X_train.columns):\n",
    "    if X_kaggle.columns[i] != x:\n",
    "        print(i,x)\n",
    "    else:\n",
    "        pass"
   ]
  },
  {
   "cell_type": "code",
   "execution_count": 23,
   "metadata": {},
   "outputs": [
    {
     "data": {
      "text/html": [
       "<div>\n",
       "<style scoped>\n",
       "    .dataframe tbody tr th:only-of-type {\n",
       "        vertical-align: middle;\n",
       "    }\n",
       "\n",
       "    .dataframe tbody tr th {\n",
       "        vertical-align: top;\n",
       "    }\n",
       "\n",
       "    .dataframe thead th {\n",
       "        text-align: right;\n",
       "    }\n",
       "</style>\n",
       "<table border=\"1\" class=\"dataframe\">\n",
       "  <thead>\n",
       "    <tr style=\"text-align: right;\">\n",
       "      <th></th>\n",
       "      <th>Id</th>\n",
       "      <th>PID</th>\n",
       "      <th>MS SubClass</th>\n",
       "      <th>MS Zoning</th>\n",
       "      <th>Lot Frontage</th>\n",
       "      <th>Lot Area</th>\n",
       "      <th>Street</th>\n",
       "      <th>Alley</th>\n",
       "      <th>Lot Shape</th>\n",
       "      <th>Land Contour</th>\n",
       "      <th>...</th>\n",
       "      <th>Total SF x Garage Area</th>\n",
       "      <th>Overall Qual^2</th>\n",
       "      <th>Year Remod/Add x Total SF</th>\n",
       "      <th>Total SF^2</th>\n",
       "      <th>Overall Qual x Garage Area</th>\n",
       "      <th>Overall Qual x Total Bathrooms</th>\n",
       "      <th>Total SF x Total Bathrooms</th>\n",
       "      <th>Overall Qual x Year Remod/Add</th>\n",
       "      <th>Total Bathrooms x Garage Area</th>\n",
       "      <th>SalePrice</th>\n",
       "    </tr>\n",
       "  </thead>\n",
       "  <tbody>\n",
       "    <tr>\n",
       "      <th>0</th>\n",
       "      <td>2658</td>\n",
       "      <td>902301120</td>\n",
       "      <td>190</td>\n",
       "      <td>RM</td>\n",
       "      <td>69.0</td>\n",
       "      <td>9142</td>\n",
       "      <td>Pave</td>\n",
       "      <td>Grvl</td>\n",
       "      <td>Reg</td>\n",
       "      <td>Lvl</td>\n",
       "      <td>...</td>\n",
       "      <td>1297120</td>\n",
       "      <td>36</td>\n",
       "      <td>5748600</td>\n",
       "      <td>8690704</td>\n",
       "      <td>2640</td>\n",
       "      <td>12.0</td>\n",
       "      <td>5896.0</td>\n",
       "      <td>11700</td>\n",
       "      <td>880.0</td>\n",
       "      <td>158934.991398</td>\n",
       "    </tr>\n",
       "  </tbody>\n",
       "</table>\n",
       "<p>1 rows × 93 columns</p>\n",
       "</div>"
      ],
      "text/plain": [
       "     Id        PID  MS SubClass MS Zoning  Lot Frontage  Lot Area Street  \\\n",
       "0  2658  902301120          190        RM          69.0      9142   Pave   \n",
       "\n",
       "  Alley Lot Shape Land Contour  ... Total SF x Garage Area Overall Qual^2  \\\n",
       "0  Grvl       Reg          Lvl  ...                1297120             36   \n",
       "\n",
       "  Year Remod/Add x Total SF Total SF^2 Overall Qual x Garage Area  \\\n",
       "0                   5748600    8690704                       2640   \n",
       "\n",
       "  Overall Qual x Total Bathrooms Total SF x Total Bathrooms  \\\n",
       "0                           12.0                     5896.0   \n",
       "\n",
       "  Overall Qual x Year Remod/Add  Total Bathrooms x Garage Area      SalePrice  \n",
       "0                         11700                          880.0  158934.991398  \n",
       "\n",
       "[1 rows x 93 columns]"
      ]
     },
     "execution_count": 23,
     "metadata": {},
     "output_type": "execute_result"
    }
   ],
   "source": [
    "price_X_testing = linreg.predict(X_kaggle)\n",
    "testing_data[\"SalePrice\"] = price_X_testing\n",
    "testing_data.head(1)"
   ]
  },
  {
   "cell_type": "code",
   "execution_count": 24,
   "metadata": {},
   "outputs": [],
   "source": [
    "ols_basic_fit = testing_data[[\"Id\",\"SalePrice\"]]\n",
    "ols_basic_fit.to_csv(\"../datasets/ols_basic_fit.csv\",index=False)"
   ]
  },
  {
   "cell_type": "code",
   "execution_count": null,
   "metadata": {},
   "outputs": [],
   "source": []
  }
 ],
 "metadata": {
  "kernelspec": {
   "display_name": "Python 3",
   "language": "python",
   "name": "python3"
  },
  "language_info": {
   "codemirror_mode": {
    "name": "ipython",
    "version": 3
   },
   "file_extension": ".py",
   "mimetype": "text/x-python",
   "name": "python",
   "nbconvert_exporter": "python",
   "pygments_lexer": "ipython3",
   "version": "3.7.7"
  }
 },
 "nbformat": 4,
 "nbformat_minor": 4
}
