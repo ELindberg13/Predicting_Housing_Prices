{
 "cells": [
  {
   "cell_type": "markdown",
   "metadata": {},
   "source": [
    "## Starting with a Linear Regression Model"
   ]
  },
  {
   "cell_type": "markdown",
   "metadata": {},
   "source": [
    "| Model Features | --- | --- | --- |---|\n",
    "| --- | --- |--- | --- |---|\n",
    "| **Numeric** | --- |--- | --- |---|\n",
    "| Lot Area | Overall Quality | Overall Condition | Year Remod/Add | Total SF |\n",
    "| Total Bathrooms | Fireplaces | Garage Area | --- | --- |\n",
    "| --- | --- |--- | --- |---|\n",
    "| **Catagorical** | --- | --- | --- |---|\n",
    "| MS SubClass | MS Zoning | Lot Config | Neighborhood | Condition 1|\n",
    "| Bldg Type | House Style |Exterior 1st  | Mas Vnr Type | Exter Qual |\n",
    "| Exter Cond | Foundation | Bsmt Qual | BsmtFin Type 1 | Heating QC |\n",
    "| Kitchen Qual | Sale Type |--- | --- |---|\n",
    "| --- | --- |--- | --- |---|\n"
   ]
  },
  {
   "cell_type": "code",
   "execution_count": 1,
   "metadata": {},
   "outputs": [],
   "source": [
    "#importing libraries\n",
    "import numpy as np\n",
    "import seaborn as sns\n",
    "import matplotlib.pyplot as plt\n",
    "import pandas as pd\n",
    "import statsmodels.api as sm\n",
    "\n",
    "from sklearn.linear_model import LinearRegression\n",
    "from sklearn.model_selection import train_test_split, cross_val_score, cross_val_predict\n",
    "from sklearn import metrics\n",
    "#import re"
   ]
  },
  {
   "cell_type": "markdown",
   "metadata": {},
   "source": [
    "# Data Dictionary - [Link](http://jse.amstat.org/v19n3/decock/DataDocumentation.txt) "
   ]
  },
  {
   "cell_type": "code",
   "execution_count": 2,
   "metadata": {},
   "outputs": [],
   "source": [
    "#importing clean v5_data\n",
    "housing_data = pd.read_csv(\"../datasets/complete_training_data.csv\")\n",
    "#importing testing data\n",
    "testing_data = pd.read_csv(\"../datasets/complete_kaggle_test.csv\")"
   ]
  },
  {
   "cell_type": "code",
   "execution_count": 3,
   "metadata": {},
   "outputs": [
    {
     "data": {
      "text/plain": [
       "Index(['Id', 'PID', 'MS SubClass', 'MS Zoning', 'Lot Frontage', 'Lot Area',\n",
       "       'Street', 'Alley', 'Lot Shape', 'Land Contour', 'Utilities',\n",
       "       'Lot Config', 'Land Slope', 'Neighborhood', 'Condition 1',\n",
       "       'Condition 2', 'Bldg Type', 'House Style', 'Overall Qual',\n",
       "       'Overall Cond', 'Year Built', 'Year Remod/Add', 'Roof Style',\n",
       "       'Roof Matl', 'Exterior 1st', 'Exterior 2nd', 'Mas Vnr Type',\n",
       "       'Mas Vnr Area', 'Exter Qual', 'Exter Cond', 'Foundation', 'Bsmt Qual',\n",
       "       'Bsmt Cond', 'Bsmt Exposure', 'BsmtFin Type 1', 'BsmtFin SF 1',\n",
       "       'BsmtFin Type 2', 'BsmtFin SF 2', 'Bsmt Unf SF', 'Total Bsmt SF',\n",
       "       'Heating', 'Heating QC', 'Central Air', 'Electrical', '1st Flr SF',\n",
       "       '2nd Flr SF', 'Low Qual Fin SF', 'Gr Liv Area', 'Bsmt Full Bath',\n",
       "       'Bsmt Half Bath', 'Full Bath', 'Half Bath', 'Bedroom AbvGr',\n",
       "       'Kitchen AbvGr', 'Kitchen Qual', 'TotRms AbvGrd', 'Functional',\n",
       "       'Fireplaces', 'Fireplace Qu', 'Garage Type', 'Garage Yr Blt',\n",
       "       'Garage Finish', 'Garage Cars', 'Garage Area', 'Garage Qual',\n",
       "       'Garage Cond', 'Paved Drive', 'Wood Deck SF', 'Open Porch SF',\n",
       "       'Enclosed Porch', '3Ssn Porch', 'Screen Porch', 'Pool Area', 'Pool QC',\n",
       "       'Fence', 'Misc Feature', 'Misc Val', 'Mo Sold', 'Yr Sold', 'Sale Type',\n",
       "       'SalePrice', 'Total SF', 'Total Bathrooms', 'Overall Qual x Total SF',\n",
       "       'Total SF x Garage Area', 'Overall Qual^2', 'Year Remod/Add x Total SF',\n",
       "       'Total SF^2', 'Overall Qual x Garage Area',\n",
       "       'Overall Qual x Total Bathrooms', 'Total SF x Total Bathrooms',\n",
       "       'Overall Qual x Year Remod/Add', 'Total Bathrooms x Garage Area'],\n",
       "      dtype='object')"
      ]
     },
     "execution_count": 3,
     "metadata": {},
     "output_type": "execute_result"
    }
   ],
   "source": [
    "housing_data.columns"
   ]
  },
  {
   "cell_type": "code",
   "execution_count": 4,
   "metadata": {},
   "outputs": [],
   "source": [
    "ms_subclass_dummies = pd.get_dummies(housing_data[\"MS SubClass\"],prefix=\"SubClass\")\n",
    "ms_subclass_dummies.drop(columns=[\"SubClass_150\",\"SubClass_40\"],inplace=True)\n",
    "\n",
    "ms_zoning_dummies = pd.get_dummies(housing_data[\"MS Zoning\"])\n",
    "ms_zoning_dummies.drop(columns=[\"A (agr)\",\"I (all)\"],inplace=True)\n",
    "\n",
    "lot_config_dummies = pd.get_dummies(housing_data[\"Lot Config\"])\n",
    "lot_config_dummies.drop(columns=[\"FR3\"],inplace=True)\n",
    "\n",
    "neighborhood_dummies = pd.get_dummies(housing_data[\"Neighborhood\"])\n",
    "neighborhood_dummies.drop(columns=[\"Landmrk\",\"GrnHill\",\"Greens\",\"Blueste\"],inplace=True)\n",
    "\n",
    "condition_1_dummies = pd.get_dummies(housing_data[\"Condition 1\"])\n",
    "condition_1_dummies.drop(columns=[\"RRNe\",\"RRNn\"],inplace=True)\n",
    "\n",
    "bldg_type_dummies = pd.get_dummies(housing_data[\"Bldg Type\"])\n",
    "bldg_type_dummies.drop(columns=\"Duplex\",inplace=True)\n",
    "\n",
    "house_style_dummies = pd.get_dummies(housing_data[\"House Style\"])\n",
    "house_style_dummies.drop(columns=[\"2.5Fin\"],inplace=True)\n",
    "\n",
    "exterior_1_dummies = pd.get_dummies(housing_data[\"Exterior 1st\"],prefix=\"Ex\")\n",
    "exterior_1_dummies.drop(columns=[\"Ex_AsphShn\",\"Ex_CBlock\",\"Ex_ImStucc\",\"Ex_Stone\",\"Ex_BrkComm\"],inplace=True)\n",
    "\n",
    "mas_vnr_type_dummies = pd.get_dummies(housing_data[\"Mas Vnr Type\"],prefix=\"MsV\")\n",
    "mas_vnr_type_dummies.drop(columns=[\"MsV_BrkCmn\"],inplace=True)\n",
    "\n",
    "exter_qual_dummies = pd.get_dummies(housing_data[\"Exter Qual\"],prefix=\"ExQ\")\n",
    "exter_qual_dummies.drop(columns=\"ExQ_Fa\",inplace=True)\n",
    "\n",
    "exter_cond_dummies = pd.get_dummies(housing_data[\"Exter Cond\"],prefix=\"ExC\")\n",
    "#might have issues with Ex not being in training data\n",
    "exter_cond_dummies.drop(columns=[\"ExC_Po\"],inplace=True)\n",
    "\n",
    "foundation_dummies = pd.get_dummies(housing_data[\"Foundation\"])\n",
    "foundation_dummies.drop(columns=[\"Stone\",\"Wood\"],inplace=True)\n",
    "\n",
    "bsmt_qual_dummies = pd.get_dummies(housing_data[\"Bsmt Qual\"],prefix=\"BsQ\")\n",
    "bsmt_qual_dummies.drop(columns=[\"BsQ_Po\",\"BsQ_Fa\"],inplace=True)\n",
    "\n",
    "bsmtfin_type1_dummies = pd.get_dummies(housing_data[\"BsmtFin Type 1\"])\n",
    "bsmtfin_type1_dummies.drop(columns=\"LwQ\",inplace=True)\n",
    "\n",
    "heatingqc_dummies = pd.get_dummies(housing_data[\"Heating QC\"],prefix=\"HtQC\")\n",
    "heatingqc_dummies.drop(columns=[\"HtQC_Po\",\"HtQC_Fa\"],inplace=True)\n",
    "\n",
    "kitchen_qual_dummies = pd.get_dummies(housing_data[\"Kitchen Qual\"],prefix=\"Kit\")\n",
    "kitchen_qual_dummies.drop(columns=\"Kit_Fa\",inplace=True)\n",
    "\n",
    "garage_type_dummies = pd.get_dummies(housing_data[\"Garage Type\"])\n",
    "garage_type_dummies.drop(columns=\"CarPort\",inplace=True)\n",
    "\n",
    "sale_type_dummies = pd.get_dummies(housing_data[\"Sale Type\"])\n",
    "sale_type_dummies.drop(columns=[\"Con\",\"Oth\",\"ConLI\",\"ConLw\"],inplace=True)"
   ]
  },
  {
   "cell_type": "code",
   "execution_count": 5,
   "metadata": {},
   "outputs": [],
   "source": [
    "xvars = [\"Lot Area\",\"Overall Qual\",\"Overall Cond\",\"Year Remod/Add\",\"Total SF\",\"Total Bathrooms\",\"Fireplaces\",\"Garage Area\"]"
   ]
  },
  {
   "cell_type": "code",
   "execution_count": 6,
   "metadata": {},
   "outputs": [],
   "source": [
    "X = housing_data[xvars]\n",
    "y = housing_data[\"SalePrice\"]"
   ]
  },
  {
   "cell_type": "code",
   "execution_count": 7,
   "metadata": {},
   "outputs": [
    {
     "data": {
      "text/plain": [
       "(2023, 121)"
      ]
     },
     "execution_count": 7,
     "metadata": {},
     "output_type": "execute_result"
    }
   ],
   "source": [
    "#creating matrix for xvars and dummy cells\n",
    "X = pd.concat([X,\n",
    "ms_subclass_dummies,\n",
    "ms_zoning_dummies,\n",
    "lot_config_dummies,\n",
    "neighborhood_dummies,\n",
    "condition_1_dummies,\n",
    "bldg_type_dummies,\n",
    "house_style_dummies,\n",
    "exterior_1_dummies,\n",
    "mas_vnr_type_dummies,\n",
    "exter_qual_dummies,\n",
    "exter_cond_dummies,\n",
    "foundation_dummies,\n",
    "bsmt_qual_dummies,\n",
    "bsmtfin_type1_dummies,\n",
    "heatingqc_dummies,\n",
    "kitchen_qual_dummies,\n",
    "garage_type_dummies,\n",
    "sale_type_dummies\n",
    "              ], axis=1)\n",
    "X.shape"
   ]
  },
  {
   "cell_type": "code",
   "execution_count": 8,
   "metadata": {},
   "outputs": [],
   "source": [
    "linreg = LinearRegression()"
   ]
  },
  {
   "cell_type": "code",
   "execution_count": 9,
   "metadata": {},
   "outputs": [],
   "source": [
    "#spliting the data 80% train, 20% test\n",
    "X_train, X_test, y_train, y_test = train_test_split(X, y, test_size=0.2,random_state=2020)"
   ]
  },
  {
   "cell_type": "code",
   "execution_count": 10,
   "metadata": {},
   "outputs": [
    {
     "data": {
      "text/plain": [
       "(1618, 121)"
      ]
     },
     "execution_count": 10,
     "metadata": {},
     "output_type": "execute_result"
    }
   ],
   "source": [
    "X_train.shape"
   ]
  },
  {
   "cell_type": "code",
   "execution_count": 11,
   "metadata": {},
   "outputs": [
    {
     "data": {
      "text/plain": [
       "LinearRegression()"
      ]
     },
     "execution_count": 11,
     "metadata": {},
     "output_type": "execute_result"
    }
   ],
   "source": [
    "linreg.fit(X_train,y_train)"
   ]
  },
  {
   "cell_type": "code",
   "execution_count": 12,
   "metadata": {},
   "outputs": [
    {
     "data": {
      "text/plain": [
       "0.9071408173362407"
      ]
     },
     "execution_count": 12,
     "metadata": {},
     "output_type": "execute_result"
    }
   ],
   "source": [
    "#looking at 5 part cross validation on traing data. The R2 is quite good at 0.88\n",
    "linreg_scores = cross_val_score(linreg, X_train, y_train, cv=5)\n",
    "linreg_scores.mean()"
   ]
  },
  {
   "cell_type": "code",
   "execution_count": 13,
   "metadata": {},
   "outputs": [],
   "source": [
    "preds_train = linreg.predict(X_train)\n",
    "preds_test = linreg.predict(X_test)"
   ]
  },
  {
   "cell_type": "code",
   "execution_count": 14,
   "metadata": {},
   "outputs": [
    {
     "data": {
      "text/plain": [
       "0.924066158446986"
      ]
     },
     "metadata": {},
     "output_type": "display_data"
    },
    {
     "data": {
      "text/plain": [
       "0.8861769204534597"
      ]
     },
     "metadata": {},
     "output_type": "display_data"
    }
   ],
   "source": [
    "display(linreg.score(X_train,y_train))\n",
    "display(linreg.score(X_test,y_test))"
   ]
  },
  {
   "cell_type": "code",
   "execution_count": 15,
   "metadata": {},
   "outputs": [],
   "source": [
    "X_train_sm = X_train\n",
    "X_train_sm = sm.add_constant(X_train_sm)\n",
    "y_train_sm = y_train"
   ]
  },
  {
   "cell_type": "code",
   "execution_count": 16,
   "metadata": {},
   "outputs": [],
   "source": [
    "sm_model = sm.OLS(y_train_sm,X_train_sm).fit()"
   ]
  },
  {
   "cell_type": "code",
   "execution_count": 17,
   "metadata": {},
   "outputs": [],
   "source": [
    "results_summary = sm_model.summary()"
   ]
  },
  {
   "cell_type": "code",
   "execution_count": 18,
   "metadata": {},
   "outputs": [
    {
     "data": {
      "text/html": [
       "<table class=\"simpletable\">\n",
       "<caption>OLS Regression Results</caption>\n",
       "<tr>\n",
       "  <th>Dep. Variable:</th>        <td>SalePrice</td>    <th>  R-squared:         </th> <td>   0.924</td> \n",
       "</tr>\n",
       "<tr>\n",
       "  <th>Model:</th>                   <td>OLS</td>       <th>  Adj. R-squared:    </th> <td>   0.918</td> \n",
       "</tr>\n",
       "<tr>\n",
       "  <th>Method:</th>             <td>Least Squares</td>  <th>  F-statistic:       </th> <td>   151.8</td> \n",
       "</tr>\n",
       "<tr>\n",
       "  <th>Date:</th>             <td>Sun, 16 Aug 2020</td> <th>  Prob (F-statistic):</th>  <td>  0.00</td>  \n",
       "</tr>\n",
       "<tr>\n",
       "  <th>Time:</th>                 <td>18:09:11</td>     <th>  Log-Likelihood:    </th> <td> -18472.</td> \n",
       "</tr>\n",
       "<tr>\n",
       "  <th>No. Observations:</th>      <td>  1618</td>      <th>  AIC:               </th> <td>3.719e+04</td>\n",
       "</tr>\n",
       "<tr>\n",
       "  <th>Df Residuals:</th>          <td>  1497</td>      <th>  BIC:               </th> <td>3.784e+04</td>\n",
       "</tr>\n",
       "<tr>\n",
       "  <th>Df Model:</th>              <td>   120</td>      <th>                     </th>     <td> </td>    \n",
       "</tr>\n",
       "<tr>\n",
       "  <th>Covariance Type:</th>      <td>nonrobust</td>    <th>                     </th>     <td> </td>    \n",
       "</tr>\n",
       "</table>"
      ],
      "text/plain": [
       "<class 'statsmodels.iolib.table.SimpleTable'>"
      ]
     },
     "execution_count": 18,
     "metadata": {},
     "output_type": "execute_result"
    }
   ],
   "source": [
    "results_summary.tables[0]"
   ]
  },
  {
   "cell_type": "code",
   "execution_count": 19,
   "metadata": {},
   "outputs": [],
   "source": [
    "results_as_html = results_summary.tables[1].as_html()\n",
    "coef = pd.read_html(results_as_html, header=0, index_col=0)[0]"
   ]
  },
  {
   "cell_type": "code",
   "execution_count": 20,
   "metadata": {},
   "outputs": [
    {
     "data": {
      "text/html": [
       "<div>\n",
       "<style scoped>\n",
       "    .dataframe tbody tr th:only-of-type {\n",
       "        vertical-align: middle;\n",
       "    }\n",
       "\n",
       "    .dataframe tbody tr th {\n",
       "        vertical-align: top;\n",
       "    }\n",
       "\n",
       "    .dataframe thead th {\n",
       "        text-align: right;\n",
       "    }\n",
       "</style>\n",
       "<table border=\"1\" class=\"dataframe\">\n",
       "  <thead>\n",
       "    <tr style=\"text-align: right;\">\n",
       "      <th></th>\n",
       "      <th>coef</th>\n",
       "      <th>std err</th>\n",
       "      <th>t</th>\n",
       "      <th>P&gt;|t|</th>\n",
       "      <th>[0.025</th>\n",
       "      <th>0.975]</th>\n",
       "    </tr>\n",
       "  </thead>\n",
       "  <tbody>\n",
       "    <tr>\n",
       "      <th>const</th>\n",
       "      <td>-227400.0000</td>\n",
       "      <td>89300.000</td>\n",
       "      <td>-2.546</td>\n",
       "      <td>0.011</td>\n",
       "      <td>-403000.000</td>\n",
       "      <td>-52200.000</td>\n",
       "    </tr>\n",
       "    <tr>\n",
       "      <th>Lot Area</th>\n",
       "      <td>2.0555</td>\n",
       "      <td>0.249</td>\n",
       "      <td>8.256</td>\n",
       "      <td>0.000</td>\n",
       "      <td>1.567</td>\n",
       "      <td>2.544</td>\n",
       "    </tr>\n",
       "    <tr>\n",
       "      <th>Overall Qual</th>\n",
       "      <td>8275.5394</td>\n",
       "      <td>900.811</td>\n",
       "      <td>9.187</td>\n",
       "      <td>0.000</td>\n",
       "      <td>6508.553</td>\n",
       "      <td>10000.000</td>\n",
       "    </tr>\n",
       "    <tr>\n",
       "      <th>Overall Cond</th>\n",
       "      <td>6113.1818</td>\n",
       "      <td>744.658</td>\n",
       "      <td>8.209</td>\n",
       "      <td>0.000</td>\n",
       "      <td>4652.498</td>\n",
       "      <td>7573.865</td>\n",
       "    </tr>\n",
       "    <tr>\n",
       "      <th>Year Remod/Add</th>\n",
       "      <td>113.7203</td>\n",
       "      <td>49.510</td>\n",
       "      <td>2.297</td>\n",
       "      <td>0.022</td>\n",
       "      <td>16.604</td>\n",
       "      <td>210.837</td>\n",
       "    </tr>\n",
       "    <tr>\n",
       "      <th>Total SF</th>\n",
       "      <td>35.1173</td>\n",
       "      <td>1.535</td>\n",
       "      <td>22.881</td>\n",
       "      <td>0.000</td>\n",
       "      <td>32.107</td>\n",
       "      <td>38.128</td>\n",
       "    </tr>\n",
       "    <tr>\n",
       "      <th>Total Bathrooms</th>\n",
       "      <td>6946.0567</td>\n",
       "      <td>1236.110</td>\n",
       "      <td>5.619</td>\n",
       "      <td>0.000</td>\n",
       "      <td>4521.366</td>\n",
       "      <td>9370.748</td>\n",
       "    </tr>\n",
       "    <tr>\n",
       "      <th>Fireplaces</th>\n",
       "      <td>5880.5177</td>\n",
       "      <td>1246.738</td>\n",
       "      <td>4.717</td>\n",
       "      <td>0.000</td>\n",
       "      <td>3434.978</td>\n",
       "      <td>8326.057</td>\n",
       "    </tr>\n",
       "    <tr>\n",
       "      <th>Garage Area</th>\n",
       "      <td>23.3395</td>\n",
       "      <td>4.901</td>\n",
       "      <td>4.762</td>\n",
       "      <td>0.000</td>\n",
       "      <td>13.726</td>\n",
       "      <td>32.953</td>\n",
       "    </tr>\n",
       "  </tbody>\n",
       "</table>\n",
       "</div>"
      ],
      "text/plain": [
       "                        coef    std err       t  P>|t|      [0.025     0.975]\n",
       "const           -227400.0000  89300.000  -2.546  0.011 -403000.000 -52200.000\n",
       "Lot Area              2.0555      0.249   8.256  0.000       1.567      2.544\n",
       "Overall Qual       8275.5394    900.811   9.187  0.000    6508.553  10000.000\n",
       "Overall Cond       6113.1818    744.658   8.209  0.000    4652.498   7573.865\n",
       "Year Remod/Add      113.7203     49.510   2.297  0.022      16.604    210.837\n",
       "Total SF             35.1173      1.535  22.881  0.000      32.107     38.128\n",
       "Total Bathrooms    6946.0567   1236.110   5.619  0.000    4521.366   9370.748\n",
       "Fireplaces         5880.5177   1246.738   4.717  0.000    3434.978   8326.057\n",
       "Garage Area          23.3395      4.901   4.762  0.000      13.726     32.953"
      ]
     },
     "execution_count": 20,
     "metadata": {},
     "output_type": "execute_result"
    }
   ],
   "source": [
    "coef.head(9)"
   ]
  },
  {
   "cell_type": "markdown",
   "metadata": {},
   "source": [
    "### Conclusions from modeling"
   ]
  },
  {
   "cell_type": "markdown",
   "metadata": {},
   "source": [
    "The train score for this model is 0.90 (test score is 0.878). I think that this model could fit the data better but it is a good start set as the bench mark. This model is also very interperable which is a nice feature."
   ]
  },
  {
   "cell_type": "markdown",
   "metadata": {},
   "source": [
    "### Calculating sales prices in training data (need to output .csv w/ header Id,SalePrice)"
   ]
  },
  {
   "cell_type": "code",
   "execution_count": 21,
   "metadata": {},
   "outputs": [],
   "source": [
    "X_kaggle = testing_data[xvars]\n",
    "kaggle_ms_subclass_dummies = pd.get_dummies(testing_data[\"MS SubClass\"],prefix=\"SubClass\")\n",
    "kaggle_ms_subclass_dummies.drop(columns=[\"SubClass_40\"],inplace=True)\n",
    "\n",
    "kaggle_ms_zoning_dummies = pd.get_dummies(testing_data[\"MS Zoning\"])\n",
    "kaggle_ms_zoning_dummies.drop(columns=[\"I (all)\"],inplace=True)\n",
    "\n",
    "kaggle_lot_config_dummies = pd.get_dummies(testing_data[\"Lot Config\"])\n",
    "kaggle_lot_config_dummies.drop(columns=[\"FR3\"],inplace=True)\n",
    "\n",
    "kaggle_neighborhood_dummies = pd.get_dummies(testing_data[\"Neighborhood\"])\n",
    "kaggle_neighborhood_dummies.drop(columns=[\"Greens\",\"Blueste\"],inplace=True)\n",
    "\n",
    "kaggle_condition_1_dummies = pd.get_dummies(testing_data[\"Condition 1\"])\n",
    "kaggle_condition_1_dummies.drop(columns=[\"RRNe\",\"RRNn\"],inplace=True)\n",
    "\n",
    "kaggle_bldg_type_dummies = pd.get_dummies(testing_data[\"Bldg Type\"])\n",
    "kaggle_bldg_type_dummies.drop(columns=\"Duplex\",inplace=True)\n",
    "\n",
    "kaggle_house_style_dummies = pd.get_dummies(testing_data[\"House Style\"])\n",
    "kaggle_house_style_dummies.drop(columns=[\"2.5Fin\"],inplace=True)\n",
    "\n",
    "kaggle_exterior_1_dummies = pd.get_dummies(testing_data[\"Exterior 1st\"],prefix=\"Ex\")\n",
    "kaggle_exterior_1_dummies.drop(columns=[\"Ex_AsphShn\",\"Ex_BrkComm\",\"Ex_PreCast\"],inplace=True)\n",
    "\n",
    "kaggle_mas_vnr_type_dummies = pd.get_dummies(testing_data[\"Mas Vnr Type\"],prefix=\"MsV\")\n",
    "kaggle_mas_vnr_type_dummies.drop(columns=[\"MsV_BrkCmn\",\"MsV_CBlock\"],inplace=True)\n",
    "\n",
    "kaggle_exter_qual_dummies = pd.get_dummies(testing_data[\"Exter Qual\"],prefix=\"ExQ\")\n",
    "kaggle_exter_qual_dummies.drop(columns=\"ExQ_Fa\",inplace=True)\n",
    "\n",
    "kaggle_exter_cond_dummies = pd.get_dummies(testing_data[\"Exter Cond\"],prefix=\"ExC\")\n",
    "kaggle_exter_cond_dummies.drop(columns=[\"ExC_Po\"],inplace=True)\n",
    "\n",
    "kaggle_foundation_dummies = pd.get_dummies(testing_data[\"Foundation\"])\n",
    "kaggle_foundation_dummies.drop(columns=[\"Stone\",\"Wood\"],inplace=True)\n",
    "\n",
    "kaggle_bsmt_qual_dummies = pd.get_dummies(testing_data[\"Bsmt Qual\"],prefix=\"BsQ\")\n",
    "kaggle_bsmt_qual_dummies.drop(columns=[\"BsQ_Po\",\"BsQ_Fa\"],inplace=True)\n",
    "\n",
    "kaggle_bsmtfin_type1_dummies = pd.get_dummies(testing_data[\"BsmtFin Type 1\"])\n",
    "kaggle_bsmtfin_type1_dummies.drop(columns=\"LwQ\",inplace=True)\n",
    "\n",
    "kaggle_heatingqc_dummies = pd.get_dummies(testing_data[\"Heating QC\"],prefix=\"HtQC\")\n",
    "kaggle_heatingqc_dummies.drop(columns=[\"HtQC_Fa\"],inplace=True)\n",
    "\n",
    "kaggle_kitchen_qual_dummies = pd.get_dummies(testing_data[\"Kitchen Qual\"],prefix=\"Kit\")\n",
    "kaggle_kitchen_qual_dummies.drop(columns=[\"Kit_Fa\",\"Kit_Po\"],inplace=True)\n",
    "\n",
    "kaggle_garage_type_dummies = pd.get_dummies(testing_data[\"Garage Type\"])\n",
    "kaggle_garage_type_dummies.drop(columns=\"CarPort\",inplace=True)\n",
    "\n",
    "kaggle_sale_type_dummies = pd.get_dummies(testing_data[\"Sale Type\"])\n",
    "kaggle_sale_type_dummies.drop(columns=[\"Con\",\"Oth\",\"ConLI\",\"ConLw\",\"VWD\"],inplace=True)"
   ]
  },
  {
   "cell_type": "code",
   "execution_count": 22,
   "metadata": {},
   "outputs": [
    {
     "data": {
      "text/plain": [
       "(878, 121)"
      ]
     },
     "execution_count": 22,
     "metadata": {},
     "output_type": "execute_result"
    }
   ],
   "source": [
    "X_kaggle = pd.concat([X_kaggle,\n",
    "kaggle_ms_subclass_dummies,\n",
    "kaggle_ms_zoning_dummies,\n",
    "kaggle_lot_config_dummies,\n",
    "kaggle_neighborhood_dummies,\n",
    "kaggle_condition_1_dummies,\n",
    "kaggle_bldg_type_dummies,\n",
    "kaggle_house_style_dummies,\n",
    "kaggle_exterior_1_dummies,\n",
    "kaggle_mas_vnr_type_dummies,\n",
    "kaggle_exter_qual_dummies,\n",
    "kaggle_exter_cond_dummies,\n",
    "kaggle_foundation_dummies,\n",
    "kaggle_bsmt_qual_dummies,\n",
    "kaggle_bsmtfin_type1_dummies,\n",
    "kaggle_heatingqc_dummies,\n",
    "kaggle_kitchen_qual_dummies,\n",
    "kaggle_garage_type_dummies,\n",
    "kaggle_sale_type_dummies\n",
    "              ], axis=1)\n",
    "X_kaggle.shape"
   ]
  },
  {
   "cell_type": "code",
   "execution_count": 23,
   "metadata": {},
   "outputs": [],
   "source": [
    "#finding differences between train and testing data columns. They need to match for fit to make sense\n",
    "for i,x in enumerate(X_train.columns):\n",
    "    if X_kaggle.columns[i] != x:\n",
    "        print(i,x)\n",
    "    else:\n",
    "        pass"
   ]
  },
  {
   "cell_type": "code",
   "execution_count": 24,
   "metadata": {},
   "outputs": [
    {
     "data": {
      "text/html": [
       "<div>\n",
       "<style scoped>\n",
       "    .dataframe tbody tr th:only-of-type {\n",
       "        vertical-align: middle;\n",
       "    }\n",
       "\n",
       "    .dataframe tbody tr th {\n",
       "        vertical-align: top;\n",
       "    }\n",
       "\n",
       "    .dataframe thead th {\n",
       "        text-align: right;\n",
       "    }\n",
       "</style>\n",
       "<table border=\"1\" class=\"dataframe\">\n",
       "  <thead>\n",
       "    <tr style=\"text-align: right;\">\n",
       "      <th></th>\n",
       "      <th>Id</th>\n",
       "      <th>PID</th>\n",
       "      <th>MS SubClass</th>\n",
       "      <th>MS Zoning</th>\n",
       "      <th>Lot Frontage</th>\n",
       "      <th>Lot Area</th>\n",
       "      <th>Street</th>\n",
       "      <th>Alley</th>\n",
       "      <th>Lot Shape</th>\n",
       "      <th>Land Contour</th>\n",
       "      <th>...</th>\n",
       "      <th>Total SF x Garage Area</th>\n",
       "      <th>Overall Qual^2</th>\n",
       "      <th>Year Remod/Add x Total SF</th>\n",
       "      <th>Total SF^2</th>\n",
       "      <th>Overall Qual x Garage Area</th>\n",
       "      <th>Overall Qual x Total Bathrooms</th>\n",
       "      <th>Total SF x Total Bathrooms</th>\n",
       "      <th>Overall Qual x Year Remod/Add</th>\n",
       "      <th>Total Bathrooms x Garage Area</th>\n",
       "      <th>SalePrice</th>\n",
       "    </tr>\n",
       "  </thead>\n",
       "  <tbody>\n",
       "    <tr>\n",
       "      <th>0</th>\n",
       "      <td>2658</td>\n",
       "      <td>902301120</td>\n",
       "      <td>190</td>\n",
       "      <td>RM</td>\n",
       "      <td>69.0</td>\n",
       "      <td>9142</td>\n",
       "      <td>Pave</td>\n",
       "      <td>Grvl</td>\n",
       "      <td>Reg</td>\n",
       "      <td>Lvl</td>\n",
       "      <td>...</td>\n",
       "      <td>1297120</td>\n",
       "      <td>36</td>\n",
       "      <td>5748600</td>\n",
       "      <td>8690704</td>\n",
       "      <td>2640</td>\n",
       "      <td>12.0</td>\n",
       "      <td>5896.0</td>\n",
       "      <td>11700</td>\n",
       "      <td>880.0</td>\n",
       "      <td>166520.781167</td>\n",
       "    </tr>\n",
       "  </tbody>\n",
       "</table>\n",
       "<p>1 rows × 93 columns</p>\n",
       "</div>"
      ],
      "text/plain": [
       "     Id        PID  MS SubClass MS Zoning  Lot Frontage  Lot Area Street  \\\n",
       "0  2658  902301120          190        RM          69.0      9142   Pave   \n",
       "\n",
       "  Alley Lot Shape Land Contour  ... Total SF x Garage Area Overall Qual^2  \\\n",
       "0  Grvl       Reg          Lvl  ...                1297120             36   \n",
       "\n",
       "  Year Remod/Add x Total SF Total SF^2 Overall Qual x Garage Area  \\\n",
       "0                   5748600    8690704                       2640   \n",
       "\n",
       "  Overall Qual x Total Bathrooms Total SF x Total Bathrooms  \\\n",
       "0                           12.0                     5896.0   \n",
       "\n",
       "  Overall Qual x Year Remod/Add  Total Bathrooms x Garage Area      SalePrice  \n",
       "0                         11700                          880.0  166520.781167  \n",
       "\n",
       "[1 rows x 93 columns]"
      ]
     },
     "execution_count": 24,
     "metadata": {},
     "output_type": "execute_result"
    }
   ],
   "source": [
    "price_X_testing = linreg.predict(X_kaggle)\n",
    "testing_data[\"SalePrice\"] = price_X_testing\n",
    "testing_data.head(1)"
   ]
  },
  {
   "cell_type": "code",
   "execution_count": 26,
   "metadata": {},
   "outputs": [],
   "source": [
    "mlr_27part_fit = testing_data[[\"Id\",\"SalePrice\"]]\n",
    "mlr_27part_fit.to_csv(\"../datasets/mlr_27part_fit.csv\",index=False)"
   ]
  },
  {
   "cell_type": "code",
   "execution_count": null,
   "metadata": {},
   "outputs": [],
   "source": []
  }
 ],
 "metadata": {
  "kernelspec": {
   "display_name": "Python 3",
   "language": "python",
   "name": "python3"
  },
  "language_info": {
   "codemirror_mode": {
    "name": "ipython",
    "version": 3
   },
   "file_extension": ".py",
   "mimetype": "text/x-python",
   "name": "python",
   "nbconvert_exporter": "python",
   "pygments_lexer": "ipython3",
   "version": "3.7.7"
  }
 },
 "nbformat": 4,
 "nbformat_minor": 4
}
