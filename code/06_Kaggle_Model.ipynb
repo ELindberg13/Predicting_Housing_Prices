{
 "cells": [
  {
   "cell_type": "markdown",
   "metadata": {},
   "source": [
    "## Linear, Lasso, and Ridge Regression on significant numeric data and 5 catagorical variables"
   ]
  },
  {
   "cell_type": "markdown",
   "metadata": {},
   "source": [
    "| Model Features | --- | --- | --- |---|\n",
    "| --- | --- |--- | --- |---|\n",
    "| **Numeric** | --- |--- | --- |---|\n",
    "| Overall Qual x Total SF | Total SF x Garage Area | Overall Qual^2 | Year Remod/Add x Total SF | Total Sf^2 |\n",
    "| Overall Qual x Garage Area | Overall Qual x Total Bathrooms | Total SF x Total Bathrooms | Overall Qual x Year Remod/Add | Total Bathrooms x Garage Area|\n",
    "| Total SF | Overall Cond |--- | --- |---|\n",
    "| --- | --- |--- | --- |---|\n",
    "| **Catagorical** | --- | --- | --- |---|\n",
    "| MS SubClass | Neighborhood | Condition 1 | Exter Qual | Kitchen Qual  |\n",
    "| --- | --- | --- | --- |---|\n"
   ]
  },
  {
   "cell_type": "code",
   "execution_count": 1,
   "metadata": {},
   "outputs": [],
   "source": [
    "#importing libraries\n",
    "import numpy as np\n",
    "import seaborn as sns\n",
    "import matplotlib.pyplot as plt\n",
    "import pandas as pd\n",
    "import statsmodels.api as sm\n",
    "\n",
    "from sklearn.linear_model import LinearRegression,LassoCV,RidgeCV\n",
    "from sklearn.preprocessing import StandardScaler\n",
    "from sklearn.model_selection import train_test_split, cross_val_score, cross_val_predict\n",
    "from sklearn import metrics\n",
    "#import re"
   ]
  },
  {
   "cell_type": "markdown",
   "metadata": {},
   "source": [
    "# Data Dictionary - [Link](http://jse.amstat.org/v19n3/decock/DataDocumentation.txt) "
   ]
  },
  {
   "cell_type": "code",
   "execution_count": 2,
   "metadata": {},
   "outputs": [],
   "source": [
    "#importing clean v5_data\n",
    "housing_data = pd.read_csv(\"../datasets/complete_training_data.csv\")\n",
    "#importing testing data\n",
    "testing_data = pd.read_csv(\"../datasets/complete_kaggle_test.csv\")"
   ]
  },
  {
   "cell_type": "code",
   "execution_count": 3,
   "metadata": {},
   "outputs": [
    {
     "data": {
      "text/plain": [
       "Index(['Id', 'PID', 'MS SubClass', 'MS Zoning', 'Lot Frontage', 'Lot Area',\n",
       "       'Street', 'Alley', 'Lot Shape', 'Land Contour', 'Utilities',\n",
       "       'Lot Config', 'Land Slope', 'Neighborhood', 'Condition 1',\n",
       "       'Condition 2', 'Bldg Type', 'House Style', 'Overall Qual',\n",
       "       'Overall Cond', 'Year Built', 'Year Remod/Add', 'Roof Style',\n",
       "       'Roof Matl', 'Exterior 1st', 'Exterior 2nd', 'Mas Vnr Type',\n",
       "       'Mas Vnr Area', 'Exter Qual', 'Exter Cond', 'Foundation', 'Bsmt Qual',\n",
       "       'Bsmt Cond', 'Bsmt Exposure', 'BsmtFin Type 1', 'BsmtFin SF 1',\n",
       "       'BsmtFin Type 2', 'BsmtFin SF 2', 'Bsmt Unf SF', 'Total Bsmt SF',\n",
       "       'Heating', 'Heating QC', 'Central Air', 'Electrical', '1st Flr SF',\n",
       "       '2nd Flr SF', 'Low Qual Fin SF', 'Gr Liv Area', 'Bsmt Full Bath',\n",
       "       'Bsmt Half Bath', 'Full Bath', 'Half Bath', 'Bedroom AbvGr',\n",
       "       'Kitchen AbvGr', 'Kitchen Qual', 'TotRms AbvGrd', 'Functional',\n",
       "       'Fireplaces', 'Fireplace Qu', 'Garage Type', 'Garage Yr Blt',\n",
       "       'Garage Finish', 'Garage Cars', 'Garage Area', 'Garage Qual',\n",
       "       'Garage Cond', 'Paved Drive', 'Wood Deck SF', 'Open Porch SF',\n",
       "       'Enclosed Porch', '3Ssn Porch', 'Screen Porch', 'Pool Area', 'Pool QC',\n",
       "       'Fence', 'Misc Feature', 'Misc Val', 'Mo Sold', 'Yr Sold', 'Sale Type',\n",
       "       'SalePrice', 'Total SF', 'Total Bathrooms', 'Overall Qual x Total SF',\n",
       "       'Total SF x Garage Area', 'Overall Qual^2', 'Year Remod/Add x Total SF',\n",
       "       'Total SF^2', 'Overall Qual x Garage Area',\n",
       "       'Overall Qual x Total Bathrooms', 'Total SF x Total Bathrooms',\n",
       "       'Overall Qual x Year Remod/Add', 'Total Bathrooms x Garage Area'],\n",
       "      dtype='object')"
      ]
     },
     "execution_count": 3,
     "metadata": {},
     "output_type": "execute_result"
    }
   ],
   "source": [
    "housing_data.columns"
   ]
  },
  {
   "cell_type": "code",
   "execution_count": 4,
   "metadata": {},
   "outputs": [],
   "source": [
    "xvars = [\"Overall Qual x Total SF\",\"Total SF x Garage Area\",\"Overall Qual^2\",\n",
    "                     \"Year Remod/Add x Total SF\",\"Total SF^2\",\"Overall Qual x Garage Area\",\n",
    "                     \"Overall Qual x Total Bathrooms\",\"Total SF x Total Bathrooms\",\"Overall Qual x Year Remod/Add\",\n",
    "                     \"Total Bathrooms x Garage Area\", \"Total SF\",\"Overall Qual\"]"
   ]
  },
  {
   "cell_type": "code",
   "execution_count": 5,
   "metadata": {},
   "outputs": [],
   "source": [
    "ms_subclass_dummies = pd.get_dummies(housing_data[\"MS SubClass\"],prefix=\"SubClass\")\n",
    "ms_subclass_dummies.drop(columns=[\"SubClass_150\",\"SubClass_40\"],inplace=True)\n",
    "\n",
    "neighborhood_dummies = pd.get_dummies(housing_data[\"Neighborhood\"])\n",
    "neighborhood_dummies.drop(columns=[\"Landmrk\",\"GrnHill\",\"Greens\",\"Blueste\"],inplace=True)\n",
    "\n",
    "condition_1_dummies = pd.get_dummies(housing_data[\"Condition 1\"])\n",
    "condition_1_dummies.drop(columns=[\"RRNe\",\"RRNn\"],inplace=True)\n",
    "\n",
    "exter_qual_dummies = pd.get_dummies(housing_data[\"Exter Qual\"],prefix=\"ExQ\")\n",
    "exter_qual_dummies.drop(columns=\"ExQ_Fa\",inplace=True)\n",
    "\n",
    "kitchen_qual_dummies = pd.get_dummies(housing_data[\"Kitchen Qual\"],prefix=\"Kit\")\n",
    "kitchen_qual_dummies.drop(columns=\"Kit_Fa\",inplace=True)"
   ]
  },
  {
   "cell_type": "code",
   "execution_count": 6,
   "metadata": {},
   "outputs": [],
   "source": [
    "X = housing_data[xvars]\n",
    "y = housing_data[\"SalePrice\"]"
   ]
  },
  {
   "cell_type": "code",
   "execution_count": 7,
   "metadata": {},
   "outputs": [],
   "source": [
    "#creating matrix for xvars and dummy cells\n",
    "X = pd.concat([X,\n",
    "ms_subclass_dummies,\n",
    "neighborhood_dummies,\n",
    "condition_1_dummies,\n",
    "exter_qual_dummies,\n",
    "kitchen_qual_dummies\n",
    "              ], axis=1)"
   ]
  },
  {
   "cell_type": "code",
   "execution_count": 8,
   "metadata": {},
   "outputs": [],
   "source": [
    "#spliting the data 70% train, 30% test\n",
    "X_train, X_test, y_train, y_test = train_test_split(X, y, test_size=0.3,random_state=2020)"
   ]
  },
  {
   "cell_type": "code",
   "execution_count": 9,
   "metadata": {},
   "outputs": [
    {
     "data": {
      "text/plain": [
       "(1416, 63)"
      ]
     },
     "execution_count": 9,
     "metadata": {},
     "output_type": "execute_result"
    }
   ],
   "source": [
    "X_train.shape"
   ]
  },
  {
   "cell_type": "code",
   "execution_count": 10,
   "metadata": {},
   "outputs": [],
   "source": [
    "ss = StandardScaler()\n",
    "Z_train = ss.fit_transform(X_train)\n",
    "Z_test = ss.transform(X_test)"
   ]
  },
  {
   "cell_type": "code",
   "execution_count": 11,
   "metadata": {},
   "outputs": [],
   "source": [
    "linreg = LinearRegression()\n",
    "lasso = LassoCV(n_alphas=300)\n",
    "ridge = RidgeCV(alphas=np.logspace(0, 5, 100))"
   ]
  },
  {
   "cell_type": "code",
   "execution_count": 12,
   "metadata": {},
   "outputs": [
    {
     "data": {
      "text/plain": [
       "0.9091628424107101"
      ]
     },
     "execution_count": 12,
     "metadata": {},
     "output_type": "execute_result"
    }
   ],
   "source": [
    "#looking at 5 part cross validation on traing data. The R2 is quite good at 0.88\n",
    "linreg_scores = cross_val_score(linreg, Z_train, y_train, cv=5)\n",
    "linreg_scores.mean()"
   ]
  },
  {
   "cell_type": "code",
   "execution_count": 13,
   "metadata": {},
   "outputs": [
    {
     "data": {
      "text/plain": [
       "0.9055305679907562"
      ]
     },
     "execution_count": 13,
     "metadata": {},
     "output_type": "execute_result"
    }
   ],
   "source": [
    "lasso_scores = cross_val_score(lasso, Z_train, y_train, cv=5)\n",
    "lasso_scores.mean()"
   ]
  },
  {
   "cell_type": "code",
   "execution_count": 14,
   "metadata": {},
   "outputs": [
    {
     "data": {
      "text/plain": [
       "0.9081491392467667"
      ]
     },
     "execution_count": 14,
     "metadata": {},
     "output_type": "execute_result"
    }
   ],
   "source": [
    "ridge_scores = cross_val_score(ridge, Z_train, y_train, cv=5)\n",
    "ridge_scores.mean()"
   ]
  },
  {
   "cell_type": "code",
   "execution_count": 15,
   "metadata": {},
   "outputs": [
    {
     "data": {
      "text/plain": [
       "LinearRegression()"
      ]
     },
     "execution_count": 15,
     "metadata": {},
     "output_type": "execute_result"
    }
   ],
   "source": [
    "linreg.fit(Z_train,y_train)"
   ]
  },
  {
   "cell_type": "code",
   "execution_count": 16,
   "metadata": {},
   "outputs": [
    {
     "data": {
      "text/plain": [
       "0.9210735676272604"
      ]
     },
     "metadata": {},
     "output_type": "display_data"
    },
    {
     "data": {
      "text/plain": [
       "0.9071488499309683"
      ]
     },
     "metadata": {},
     "output_type": "display_data"
    }
   ],
   "source": [
    "display(linreg.score(Z_train,y_train))\n",
    "display(linreg.score(Z_test,y_test))"
   ]
  },
  {
   "cell_type": "code",
   "execution_count": null,
   "metadata": {},
   "outputs": [],
   "source": []
  },
  {
   "cell_type": "code",
   "execution_count": 17,
   "metadata": {},
   "outputs": [],
   "source": [
    "Z_train_sm = Z_train\n",
    "Z_train_sm = sm.add_constant(Z_train_sm)\n",
    "y_train_sm = y_train"
   ]
  },
  {
   "cell_type": "code",
   "execution_count": 18,
   "metadata": {},
   "outputs": [],
   "source": [
    "sm_model = sm.OLS(y_train_sm,Z_train_sm).fit()"
   ]
  },
  {
   "cell_type": "code",
   "execution_count": 19,
   "metadata": {},
   "outputs": [],
   "source": [
    "results_summary = sm_model.summary()"
   ]
  },
  {
   "cell_type": "code",
   "execution_count": 20,
   "metadata": {},
   "outputs": [
    {
     "data": {
      "text/html": [
       "<table class=\"simpletable\">\n",
       "<caption>OLS Regression Results</caption>\n",
       "<tr>\n",
       "  <th>Dep. Variable:</th>        <td>SalePrice</td>    <th>  R-squared:         </th> <td>   0.921</td> \n",
       "</tr>\n",
       "<tr>\n",
       "  <th>Model:</th>                   <td>OLS</td>       <th>  Adj. R-squared:    </th> <td>   0.917</td> \n",
       "</tr>\n",
       "<tr>\n",
       "  <th>Method:</th>             <td>Least Squares</td>  <th>  F-statistic:       </th> <td>   250.4</td> \n",
       "</tr>\n",
       "<tr>\n",
       "  <th>Date:</th>             <td>Sun, 16 Aug 2020</td> <th>  Prob (F-statistic):</th>  <td>  0.00</td>  \n",
       "</tr>\n",
       "<tr>\n",
       "  <th>Time:</th>                 <td>18:10:34</td>     <th>  Log-Likelihood:    </th> <td> -16208.</td> \n",
       "</tr>\n",
       "<tr>\n",
       "  <th>No. Observations:</th>      <td>  1416</td>      <th>  AIC:               </th> <td>3.254e+04</td>\n",
       "</tr>\n",
       "<tr>\n",
       "  <th>Df Residuals:</th>          <td>  1352</td>      <th>  BIC:               </th> <td>3.288e+04</td>\n",
       "</tr>\n",
       "<tr>\n",
       "  <th>Df Model:</th>              <td>    63</td>      <th>                     </th>     <td> </td>    \n",
       "</tr>\n",
       "<tr>\n",
       "  <th>Covariance Type:</th>      <td>nonrobust</td>    <th>                     </th>     <td> </td>    \n",
       "</tr>\n",
       "</table>"
      ],
      "text/plain": [
       "<class 'statsmodels.iolib.table.SimpleTable'>"
      ]
     },
     "execution_count": 20,
     "metadata": {},
     "output_type": "execute_result"
    }
   ],
   "source": [
    "results_summary.tables[0]"
   ]
  },
  {
   "cell_type": "code",
   "execution_count": 21,
   "metadata": {},
   "outputs": [],
   "source": [
    "results_as_html = results_summary.tables[1].as_html()\n",
    "coef = pd.read_html(results_as_html, header=0, index_col=0)[0]"
   ]
  },
  {
   "cell_type": "code",
   "execution_count": 22,
   "metadata": {},
   "outputs": [],
   "source": [
    "indexes = X_train.columns"
   ]
  },
  {
   "cell_type": "code",
   "execution_count": 23,
   "metadata": {},
   "outputs": [],
   "source": [
    "complete_indexes = ['const']\n",
    "complete_indexes.extend(indexes)"
   ]
  },
  {
   "cell_type": "code",
   "execution_count": 24,
   "metadata": {},
   "outputs": [],
   "source": [
    "coef[\"indexes\"] = complete_indexes"
   ]
  },
  {
   "cell_type": "code",
   "execution_count": 25,
   "metadata": {},
   "outputs": [],
   "source": [
    "coef.set_index(\"indexes\",inplace=True);"
   ]
  },
  {
   "cell_type": "code",
   "execution_count": 26,
   "metadata": {},
   "outputs": [
    {
     "data": {
      "text/html": [
       "<div>\n",
       "<style scoped>\n",
       "    .dataframe tbody tr th:only-of-type {\n",
       "        vertical-align: middle;\n",
       "    }\n",
       "\n",
       "    .dataframe tbody tr th {\n",
       "        vertical-align: top;\n",
       "    }\n",
       "\n",
       "    .dataframe thead th {\n",
       "        text-align: right;\n",
       "    }\n",
       "</style>\n",
       "<table border=\"1\" class=\"dataframe\">\n",
       "  <thead>\n",
       "    <tr style=\"text-align: right;\">\n",
       "      <th></th>\n",
       "      <th>coef</th>\n",
       "      <th>std err</th>\n",
       "      <th>t</th>\n",
       "      <th>P&gt;|t|</th>\n",
       "      <th>[0.025</th>\n",
       "      <th>0.975]</th>\n",
       "    </tr>\n",
       "    <tr>\n",
       "      <th>indexes</th>\n",
       "      <th></th>\n",
       "      <th></th>\n",
       "      <th></th>\n",
       "      <th></th>\n",
       "      <th></th>\n",
       "      <th></th>\n",
       "    </tr>\n",
       "  </thead>\n",
       "  <tbody>\n",
       "    <tr>\n",
       "      <th>const</th>\n",
       "      <td>182700.0000</td>\n",
       "      <td>615.479</td>\n",
       "      <td>296.816</td>\n",
       "      <td>0.000</td>\n",
       "      <td>181000.000</td>\n",
       "      <td>184000.000</td>\n",
       "    </tr>\n",
       "    <tr>\n",
       "      <th>Overall Qual x Total SF</th>\n",
       "      <td>60410.0000</td>\n",
       "      <td>11100.000</td>\n",
       "      <td>5.422</td>\n",
       "      <td>0.000</td>\n",
       "      <td>38600.000</td>\n",
       "      <td>82300.000</td>\n",
       "    </tr>\n",
       "    <tr>\n",
       "      <th>Total SF x Garage Area</th>\n",
       "      <td>4592.3729</td>\n",
       "      <td>6185.158</td>\n",
       "      <td>0.742</td>\n",
       "      <td>0.458</td>\n",
       "      <td>-7541.177</td>\n",
       "      <td>16700.000</td>\n",
       "    </tr>\n",
       "    <tr>\n",
       "      <th>Overall Qual^2</th>\n",
       "      <td>-5450.2817</td>\n",
       "      <td>9306.979</td>\n",
       "      <td>-0.586</td>\n",
       "      <td>0.558</td>\n",
       "      <td>-23700.000</td>\n",
       "      <td>12800.000</td>\n",
       "    </tr>\n",
       "    <tr>\n",
       "      <th>Year Remod/Add x Total SF</th>\n",
       "      <td>395500.0000</td>\n",
       "      <td>114000.000</td>\n",
       "      <td>3.463</td>\n",
       "      <td>0.001</td>\n",
       "      <td>171000.000</td>\n",
       "      <td>619000.000</td>\n",
       "    </tr>\n",
       "    <tr>\n",
       "      <th>Total SF^2</th>\n",
       "      <td>8183.1488</td>\n",
       "      <td>6349.666</td>\n",
       "      <td>1.289</td>\n",
       "      <td>0.198</td>\n",
       "      <td>-4273.118</td>\n",
       "      <td>20600.000</td>\n",
       "    </tr>\n",
       "    <tr>\n",
       "      <th>Overall Qual x Garage Area</th>\n",
       "      <td>4448.6976</td>\n",
       "      <td>5346.239</td>\n",
       "      <td>0.832</td>\n",
       "      <td>0.405</td>\n",
       "      <td>-6039.128</td>\n",
       "      <td>14900.000</td>\n",
       "    </tr>\n",
       "    <tr>\n",
       "      <th>Overall Qual x Total Bathrooms</th>\n",
       "      <td>6142.9403</td>\n",
       "      <td>5904.927</td>\n",
       "      <td>1.040</td>\n",
       "      <td>0.298</td>\n",
       "      <td>-5440.875</td>\n",
       "      <td>17700.000</td>\n",
       "    </tr>\n",
       "    <tr>\n",
       "      <th>Total SF x Total Bathrooms</th>\n",
       "      <td>9715.8239</td>\n",
       "      <td>6418.432</td>\n",
       "      <td>1.514</td>\n",
       "      <td>0.130</td>\n",
       "      <td>-2875.344</td>\n",
       "      <td>22300.000</td>\n",
       "    </tr>\n",
       "    <tr>\n",
       "      <th>Overall Qual x Year Remod/Add</th>\n",
       "      <td>-135600.0000</td>\n",
       "      <td>88400.000</td>\n",
       "      <td>-1.534</td>\n",
       "      <td>0.125</td>\n",
       "      <td>-309000.000</td>\n",
       "      <td>37800.000</td>\n",
       "    </tr>\n",
       "    <tr>\n",
       "      <th>Total Bathrooms x Garage Area</th>\n",
       "      <td>-324.8140</td>\n",
       "      <td>3951.550</td>\n",
       "      <td>-0.082</td>\n",
       "      <td>0.935</td>\n",
       "      <td>-8076.649</td>\n",
       "      <td>7427.021</td>\n",
       "    </tr>\n",
       "    <tr>\n",
       "      <th>Total SF</th>\n",
       "      <td>-412400.0000</td>\n",
       "      <td>110000.000</td>\n",
       "      <td>-3.748</td>\n",
       "      <td>0.000</td>\n",
       "      <td>-628000.000</td>\n",
       "      <td>-197000.000</td>\n",
       "    </tr>\n",
       "    <tr>\n",
       "      <th>Overall Qual</th>\n",
       "      <td>122000.0000</td>\n",
       "      <td>84300.000</td>\n",
       "      <td>1.447</td>\n",
       "      <td>0.148</td>\n",
       "      <td>-43400.000</td>\n",
       "      <td>287000.000</td>\n",
       "    </tr>\n",
       "  </tbody>\n",
       "</table>\n",
       "</div>"
      ],
      "text/plain": [
       "                                       coef     std err        t  P>|t|  \\\n",
       "indexes                                                                   \n",
       "const                           182700.0000     615.479  296.816  0.000   \n",
       "Overall Qual x Total SF          60410.0000   11100.000    5.422  0.000   \n",
       "Total SF x Garage Area            4592.3729    6185.158    0.742  0.458   \n",
       "Overall Qual^2                   -5450.2817    9306.979   -0.586  0.558   \n",
       "Year Remod/Add x Total SF       395500.0000  114000.000    3.463  0.001   \n",
       "Total SF^2                        8183.1488    6349.666    1.289  0.198   \n",
       "Overall Qual x Garage Area        4448.6976    5346.239    0.832  0.405   \n",
       "Overall Qual x Total Bathrooms    6142.9403    5904.927    1.040  0.298   \n",
       "Total SF x Total Bathrooms        9715.8239    6418.432    1.514  0.130   \n",
       "Overall Qual x Year Remod/Add  -135600.0000   88400.000   -1.534  0.125   \n",
       "Total Bathrooms x Garage Area     -324.8140    3951.550   -0.082  0.935   \n",
       "Total SF                       -412400.0000  110000.000   -3.748  0.000   \n",
       "Overall Qual                    122000.0000   84300.000    1.447  0.148   \n",
       "\n",
       "                                    [0.025      0.975]  \n",
       "indexes                                                 \n",
       "const                           181000.000  184000.000  \n",
       "Overall Qual x Total SF          38600.000   82300.000  \n",
       "Total SF x Garage Area           -7541.177   16700.000  \n",
       "Overall Qual^2                  -23700.000   12800.000  \n",
       "Year Remod/Add x Total SF       171000.000  619000.000  \n",
       "Total SF^2                       -4273.118   20600.000  \n",
       "Overall Qual x Garage Area       -6039.128   14900.000  \n",
       "Overall Qual x Total Bathrooms   -5440.875   17700.000  \n",
       "Total SF x Total Bathrooms       -2875.344   22300.000  \n",
       "Overall Qual x Year Remod/Add  -309000.000   37800.000  \n",
       "Total Bathrooms x Garage Area    -8076.649    7427.021  \n",
       "Total SF                       -628000.000 -197000.000  \n",
       "Overall Qual                    -43400.000  287000.000  "
      ]
     },
     "execution_count": 26,
     "metadata": {},
     "output_type": "execute_result"
    }
   ],
   "source": [
    "coef.head(13)"
   ]
  },
  {
   "cell_type": "markdown",
   "metadata": {},
   "source": [
    "### Conclusions from modeling"
   ]
  },
  {
   "cell_type": "markdown",
   "metadata": {},
   "source": [
    "The train score for this model is 0.921 (test score is 0.907). I think that this model fits the data very well and doesn't have too much bias nor varience"
   ]
  },
  {
   "cell_type": "markdown",
   "metadata": {},
   "source": [
    "### Calculating sales prices in training data (need to output .csv w/ header Id,SalePrice)"
   ]
  },
  {
   "cell_type": "code",
   "execution_count": 27,
   "metadata": {},
   "outputs": [],
   "source": [
    "X_kaggle = testing_data[xvars]"
   ]
  },
  {
   "cell_type": "code",
   "execution_count": 28,
   "metadata": {},
   "outputs": [],
   "source": [
    "kaggle_ms_subclass_dummies = pd.get_dummies(testing_data[\"MS SubClass\"],prefix=\"SubClass\")\n",
    "kaggle_ms_subclass_dummies.drop(columns=[\"SubClass_40\"],inplace=True)\n",
    "\n",
    "kaggle_neighborhood_dummies = pd.get_dummies(testing_data[\"Neighborhood\"])\n",
    "kaggle_neighborhood_dummies.drop(columns=[\"Greens\",\"Blueste\"],inplace=True)\n",
    "\n",
    "kaggle_condition_1_dummies = pd.get_dummies(testing_data[\"Condition 1\"])\n",
    "kaggle_condition_1_dummies.drop(columns=[\"RRNe\",\"RRNn\"],inplace=True)\n",
    "\n",
    "kaggle_exter_qual_dummies = pd.get_dummies(testing_data[\"Exter Qual\"],prefix=\"ExQ\")\n",
    "kaggle_exter_qual_dummies.drop(columns=\"ExQ_Fa\",inplace=True)\n",
    "\n",
    "kaggle_kitchen_qual_dummies = pd.get_dummies(testing_data[\"Kitchen Qual\"],prefix=\"Kit\")\n",
    "kaggle_kitchen_qual_dummies.drop(columns=[\"Kit_Fa\",\"Kit_Po\"],inplace=True)"
   ]
  },
  {
   "cell_type": "code",
   "execution_count": 29,
   "metadata": {},
   "outputs": [],
   "source": [
    "#creating matrix for xvars and dummy cells\n",
    "X_kaggle = pd.concat([X_kaggle,\n",
    "kaggle_ms_subclass_dummies,\n",
    "kaggle_neighborhood_dummies,\n",
    "kaggle_condition_1_dummies,\n",
    "kaggle_exter_qual_dummies,\n",
    "kaggle_kitchen_qual_dummies\n",
    "              ], axis=1)"
   ]
  },
  {
   "cell_type": "code",
   "execution_count": 30,
   "metadata": {},
   "outputs": [],
   "source": [
    "#need to regularize the kaggle data\n",
    "Z_kaggle = ss.transform(X_kaggle)"
   ]
  },
  {
   "cell_type": "code",
   "execution_count": 31,
   "metadata": {},
   "outputs": [],
   "source": [
    "#finding differences between train and testing data columns. They need to match for fit to make sense\n",
    "for i,x in enumerate(X_train.columns):\n",
    "    if X_kaggle.columns[i] != x:\n",
    "        print(i,x)\n",
    "    else:\n",
    "        pass"
   ]
  },
  {
   "cell_type": "code",
   "execution_count": 32,
   "metadata": {},
   "outputs": [
    {
     "data": {
      "text/html": [
       "<div>\n",
       "<style scoped>\n",
       "    .dataframe tbody tr th:only-of-type {\n",
       "        vertical-align: middle;\n",
       "    }\n",
       "\n",
       "    .dataframe tbody tr th {\n",
       "        vertical-align: top;\n",
       "    }\n",
       "\n",
       "    .dataframe thead th {\n",
       "        text-align: right;\n",
       "    }\n",
       "</style>\n",
       "<table border=\"1\" class=\"dataframe\">\n",
       "  <thead>\n",
       "    <tr style=\"text-align: right;\">\n",
       "      <th></th>\n",
       "      <th>Id</th>\n",
       "      <th>PID</th>\n",
       "      <th>MS SubClass</th>\n",
       "      <th>MS Zoning</th>\n",
       "      <th>Lot Frontage</th>\n",
       "      <th>Lot Area</th>\n",
       "      <th>Street</th>\n",
       "      <th>Alley</th>\n",
       "      <th>Lot Shape</th>\n",
       "      <th>Land Contour</th>\n",
       "      <th>...</th>\n",
       "      <th>Total SF x Garage Area</th>\n",
       "      <th>Overall Qual^2</th>\n",
       "      <th>Year Remod/Add x Total SF</th>\n",
       "      <th>Total SF^2</th>\n",
       "      <th>Overall Qual x Garage Area</th>\n",
       "      <th>Overall Qual x Total Bathrooms</th>\n",
       "      <th>Total SF x Total Bathrooms</th>\n",
       "      <th>Overall Qual x Year Remod/Add</th>\n",
       "      <th>Total Bathrooms x Garage Area</th>\n",
       "      <th>SalePrice</th>\n",
       "    </tr>\n",
       "  </thead>\n",
       "  <tbody>\n",
       "    <tr>\n",
       "      <th>0</th>\n",
       "      <td>2658</td>\n",
       "      <td>902301120</td>\n",
       "      <td>190</td>\n",
       "      <td>RM</td>\n",
       "      <td>69.0</td>\n",
       "      <td>9142</td>\n",
       "      <td>Pave</td>\n",
       "      <td>Grvl</td>\n",
       "      <td>Reg</td>\n",
       "      <td>Lvl</td>\n",
       "      <td>...</td>\n",
       "      <td>1297120</td>\n",
       "      <td>36</td>\n",
       "      <td>5748600</td>\n",
       "      <td>8690704</td>\n",
       "      <td>2640</td>\n",
       "      <td>12.0</td>\n",
       "      <td>5896.0</td>\n",
       "      <td>11700</td>\n",
       "      <td>880.0</td>\n",
       "      <td>129411.178933</td>\n",
       "    </tr>\n",
       "  </tbody>\n",
       "</table>\n",
       "<p>1 rows × 93 columns</p>\n",
       "</div>"
      ],
      "text/plain": [
       "     Id        PID  MS SubClass MS Zoning  Lot Frontage  Lot Area Street  \\\n",
       "0  2658  902301120          190        RM          69.0      9142   Pave   \n",
       "\n",
       "  Alley Lot Shape Land Contour  ... Total SF x Garage Area Overall Qual^2  \\\n",
       "0  Grvl       Reg          Lvl  ...                1297120             36   \n",
       "\n",
       "  Year Remod/Add x Total SF Total SF^2 Overall Qual x Garage Area  \\\n",
       "0                   5748600    8690704                       2640   \n",
       "\n",
       "  Overall Qual x Total Bathrooms Total SF x Total Bathrooms  \\\n",
       "0                           12.0                     5896.0   \n",
       "\n",
       "  Overall Qual x Year Remod/Add  Total Bathrooms x Garage Area      SalePrice  \n",
       "0                         11700                          880.0  129411.178933  \n",
       "\n",
       "[1 rows x 93 columns]"
      ]
     },
     "execution_count": 32,
     "metadata": {},
     "output_type": "execute_result"
    }
   ],
   "source": [
    "price_X_testing = linreg.predict(Z_kaggle)\n",
    "testing_data[\"SalePrice\"] = price_X_testing\n",
    "testing_data.head(1)"
   ]
  },
  {
   "cell_type": "code",
   "execution_count": 33,
   "metadata": {},
   "outputs": [],
   "source": [
    "ols_sigfeat_fit = testing_data[[\"Id\",\"SalePrice\"]]\n",
    "ols_sigfeat_fit.to_csv(\"../datasets/ols_sigfeat_fit.csv\",index=False)"
   ]
  },
  {
   "cell_type": "code",
   "execution_count": null,
   "metadata": {},
   "outputs": [],
   "source": []
  }
 ],
 "metadata": {
  "kernelspec": {
   "display_name": "Python 3",
   "language": "python",
   "name": "python3"
  },
  "language_info": {
   "codemirror_mode": {
    "name": "ipython",
    "version": 3
   },
   "file_extension": ".py",
   "mimetype": "text/x-python",
   "name": "python",
   "nbconvert_exporter": "python",
   "pygments_lexer": "ipython3",
   "version": "3.7.7"
  }
 },
 "nbformat": 4,
 "nbformat_minor": 4
}
