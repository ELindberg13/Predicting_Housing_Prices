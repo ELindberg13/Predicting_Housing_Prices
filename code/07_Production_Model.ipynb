{
 "cells": [
  {
   "cell_type": "markdown",
   "metadata": {},
   "source": [
    "# Production Model - Basic Linear Regression Model"
   ]
  },
  {
   "cell_type": "markdown",
   "metadata": {},
   "source": [
    "| Model Features | --- | --- | \n",
    "| --- | --- |--- | \n",
    "| **Numeric** | --- |--- | \n",
    "| Lot Area | Overall Qual | Garage Area | \n",
    "| Total Bathrooms | Total SF | Year Remod/Add |\n",
    "| --- | --- |--- | \n",
    "| **Catagorical** | --- | --- | \n",
    "| MS SubClass | Neighborhood | Condition 1 | \n",
    "| Exter Qual | Kitchen Qual | --- |"
   ]
  },
  {
   "cell_type": "code",
   "execution_count": 1,
   "metadata": {},
   "outputs": [],
   "source": [
    "#importing libraries\n",
    "import numpy as np\n",
    "import seaborn as sns\n",
    "import matplotlib.pyplot as plt\n",
    "import pandas as pd\n",
    "import statsmodels.api as sm\n",
    "\n",
    "from sklearn.linear_model import LinearRegression\n",
    "from sklearn.model_selection import train_test_split, cross_val_score\n",
    "from sklearn.metrics import mean_squared_error\n",
    "#import re"
   ]
  },
  {
   "cell_type": "markdown",
   "metadata": {},
   "source": [
    "# Data Dictionary - [Link](http://jse.amstat.org/v19n3/decock/DataDocumentation.txt) "
   ]
  },
  {
   "cell_type": "code",
   "execution_count": 2,
   "metadata": {},
   "outputs": [],
   "source": [
    "#importing complete training data\n",
    "housing_data = pd.read_csv(\"datasets/complete_training_data.csv\")\n",
    "#importing testing data\n",
    "testing_data = pd.read_csv(\"datasets/complete_kaggle_test.csv\")"
   ]
  },
  {
   "cell_type": "code",
   "execution_count": 3,
   "metadata": {},
   "outputs": [],
   "source": [
    "ms_subclass_dummies = pd.get_dummies(housing_data[\"MS SubClass\"],prefix=\"SubClass\")\n",
    "ms_subclass_dummies.drop(columns=[\"SubClass_150\",\"SubClass_40\"],inplace=True)\n",
    "\n",
    "neighborhood_dummies = pd.get_dummies(housing_data[\"Neighborhood\"])\n",
    "neighborhood_dummies.drop(columns=[\"Landmrk\",\"GrnHill\",\"Greens\",\"Blueste\"],inplace=True)\n",
    "\n",
    "condition_1_dummies = pd.get_dummies(housing_data[\"Condition 1\"])\n",
    "condition_1_dummies.drop(columns=[\"RRNe\",\"RRNn\"],inplace=True)\n",
    "\n",
    "exter_qual_dummies = pd.get_dummies(housing_data[\"Exter Qual\"],prefix=\"ExQ\")\n",
    "exter_qual_dummies.drop(columns=\"ExQ_Fa\",inplace=True)\n",
    "\n",
    "kitchen_qual_dummies = pd.get_dummies(housing_data[\"Kitchen Qual\"],prefix=\"Kit\")\n",
    "kitchen_qual_dummies.drop(columns=\"Kit_Fa\",inplace=True)"
   ]
  },
  {
   "cell_type": "code",
   "execution_count": 4,
   "metadata": {},
   "outputs": [],
   "source": [
    "xvars = [\"Lot Area\",\"Overall Qual\",\"Total SF\",\"Garage Area\",\"Year Remod/Add\",\"Total Bathrooms\"]"
   ]
  },
  {
   "cell_type": "code",
   "execution_count": 5,
   "metadata": {},
   "outputs": [],
   "source": [
    "X = housing_data[xvars]\n",
    "y = housing_data[\"SalePrice\"]"
   ]
  },
  {
   "cell_type": "code",
   "execution_count": 6,
   "metadata": {},
   "outputs": [],
   "source": [
    "#creating matrix for xvars and dummy cells\n",
    "X = pd.concat([X,\n",
    "ms_subclass_dummies,\n",
    "neighborhood_dummies,\n",
    "condition_1_dummies,\n",
    "exter_qual_dummies,\n",
    "kitchen_qual_dummies\n",
    "              ], axis=1)"
   ]
  },
  {
   "cell_type": "code",
   "execution_count": 7,
   "metadata": {},
   "outputs": [],
   "source": [
    "#spliting the data 80% train, 20% test\n",
    "X_train, X_test, y_train, y_test = train_test_split(X, y, test_size=0.2,random_state=2020)"
   ]
  },
  {
   "cell_type": "code",
   "execution_count": 8,
   "metadata": {},
   "outputs": [],
   "source": [
    "linreg = LinearRegression()"
   ]
  },
  {
   "cell_type": "code",
   "execution_count": 9,
   "metadata": {},
   "outputs": [
    {
     "data": {
      "text/plain": [
       "LinearRegression()"
      ]
     },
     "execution_count": 9,
     "metadata": {},
     "output_type": "execute_result"
    }
   ],
   "source": [
    "linreg.fit(X_train,y_train)"
   ]
  },
  {
   "cell_type": "code",
   "execution_count": 10,
   "metadata": {},
   "outputs": [
    {
     "data": {
      "text/plain": [
       "0.8942456407020198"
      ]
     },
     "execution_count": 10,
     "metadata": {},
     "output_type": "execute_result"
    }
   ],
   "source": [
    "#looking at 5 part cross validation on traing data. The R2 is quite good at 0.90\n",
    "linreg_scores = cross_val_score(linreg, X_train, y_train, cv=5)\n",
    "linreg_scores.mean()"
   ]
  },
  {
   "cell_type": "code",
   "execution_count": 11,
   "metadata": {},
   "outputs": [
    {
     "data": {
      "text/plain": [
       "0.9035268020422202"
      ]
     },
     "metadata": {},
     "output_type": "display_data"
    },
    {
     "data": {
      "text/plain": [
       "0.8733556023526714"
      ]
     },
     "metadata": {},
     "output_type": "display_data"
    }
   ],
   "source": [
    "display(linreg.score(X_train,y_train))\n",
    "display(linreg.score(X_test,y_test))"
   ]
  },
  {
   "cell_type": "code",
   "execution_count": 12,
   "metadata": {},
   "outputs": [],
   "source": [
    "X_train_sm = X_train\n",
    "X_train_sm = sm.add_constant(X_train_sm)\n",
    "y_train_sm = y_train"
   ]
  },
  {
   "cell_type": "code",
   "execution_count": 13,
   "metadata": {},
   "outputs": [],
   "source": [
    "sm_model = sm.OLS(y_train_sm,X_train_sm).fit()"
   ]
  },
  {
   "cell_type": "code",
   "execution_count": 14,
   "metadata": {},
   "outputs": [],
   "source": [
    "results_summary = sm_model.summary()"
   ]
  },
  {
   "cell_type": "code",
   "execution_count": 15,
   "metadata": {},
   "outputs": [
    {
     "data": {
      "text/html": [
       "<table class=\"simpletable\">\n",
       "<caption>OLS Regression Results</caption>\n",
       "<tr>\n",
       "  <th>Dep. Variable:</th>        <td>SalePrice</td>    <th>  R-squared:         </th> <td>   0.904</td> \n",
       "</tr>\n",
       "<tr>\n",
       "  <th>Model:</th>                   <td>OLS</td>       <th>  Adj. R-squared:    </th> <td>   0.900</td> \n",
       "</tr>\n",
       "<tr>\n",
       "  <th>Method:</th>             <td>Least Squares</td>  <th>  F-statistic:       </th> <td>   256.3</td> \n",
       "</tr>\n",
       "<tr>\n",
       "  <th>Date:</th>             <td>Sun, 16 Aug 2020</td> <th>  Prob (F-statistic):</th>  <td>  0.00</td>  \n",
       "</tr>\n",
       "<tr>\n",
       "  <th>Time:</th>                 <td>18:11:15</td>     <th>  Log-Likelihood:    </th> <td> -18666.</td> \n",
       "</tr>\n",
       "<tr>\n",
       "  <th>No. Observations:</th>      <td>  1618</td>      <th>  AIC:               </th> <td>3.745e+04</td>\n",
       "</tr>\n",
       "<tr>\n",
       "  <th>Df Residuals:</th>          <td>  1560</td>      <th>  BIC:               </th> <td>3.776e+04</td>\n",
       "</tr>\n",
       "<tr>\n",
       "  <th>Df Model:</th>              <td>    57</td>      <th>                     </th>     <td> </td>    \n",
       "</tr>\n",
       "<tr>\n",
       "  <th>Covariance Type:</th>      <td>nonrobust</td>    <th>                     </th>     <td> </td>    \n",
       "</tr>\n",
       "</table>"
      ],
      "text/plain": [
       "<class 'statsmodels.iolib.table.SimpleTable'>"
      ]
     },
     "execution_count": 15,
     "metadata": {},
     "output_type": "execute_result"
    }
   ],
   "source": [
    "results_summary.tables[0]"
   ]
  },
  {
   "cell_type": "code",
   "execution_count": 16,
   "metadata": {},
   "outputs": [],
   "source": [
    "results_as_html = results_summary.tables[1].as_html()\n",
    "coef = pd.read_html(results_as_html, header=0, index_col=0)[0]"
   ]
  },
  {
   "cell_type": "code",
   "execution_count": 17,
   "metadata": {},
   "outputs": [
    {
     "data": {
      "text/html": [
       "<div>\n",
       "<style scoped>\n",
       "    .dataframe tbody tr th:only-of-type {\n",
       "        vertical-align: middle;\n",
       "    }\n",
       "\n",
       "    .dataframe tbody tr th {\n",
       "        vertical-align: top;\n",
       "    }\n",
       "\n",
       "    .dataframe thead th {\n",
       "        text-align: right;\n",
       "    }\n",
       "</style>\n",
       "<table border=\"1\" class=\"dataframe\">\n",
       "  <thead>\n",
       "    <tr style=\"text-align: right;\">\n",
       "      <th></th>\n",
       "      <th>coef</th>\n",
       "      <th>std err</th>\n",
       "      <th>t</th>\n",
       "      <th>P&gt;|t|</th>\n",
       "      <th>[0.025</th>\n",
       "      <th>0.975]</th>\n",
       "    </tr>\n",
       "  </thead>\n",
       "  <tbody>\n",
       "    <tr>\n",
       "      <th>const</th>\n",
       "      <td>-525000.0000</td>\n",
       "      <td>94900.000</td>\n",
       "      <td>-5.532</td>\n",
       "      <td>0.0</td>\n",
       "      <td>-711000.000</td>\n",
       "      <td>-339000.000</td>\n",
       "    </tr>\n",
       "    <tr>\n",
       "      <th>Lot Area</th>\n",
       "      <td>2.0051</td>\n",
       "      <td>0.251</td>\n",
       "      <td>7.975</td>\n",
       "      <td>0.0</td>\n",
       "      <td>1.512</td>\n",
       "      <td>2.498</td>\n",
       "    </tr>\n",
       "    <tr>\n",
       "      <th>Overall Qual</th>\n",
       "      <td>10660.0000</td>\n",
       "      <td>912.395</td>\n",
       "      <td>11.679</td>\n",
       "      <td>0.0</td>\n",
       "      <td>8866.490</td>\n",
       "      <td>12400.000</td>\n",
       "    </tr>\n",
       "    <tr>\n",
       "      <th>Total SF</th>\n",
       "      <td>32.3825</td>\n",
       "      <td>1.483</td>\n",
       "      <td>21.839</td>\n",
       "      <td>0.0</td>\n",
       "      <td>29.474</td>\n",
       "      <td>35.291</td>\n",
       "    </tr>\n",
       "    <tr>\n",
       "      <th>Garage Area</th>\n",
       "      <td>23.8789</td>\n",
       "      <td>4.282</td>\n",
       "      <td>5.577</td>\n",
       "      <td>0.0</td>\n",
       "      <td>15.480</td>\n",
       "      <td>32.278</td>\n",
       "    </tr>\n",
       "    <tr>\n",
       "      <th>Year Remod/Add</th>\n",
       "      <td>248.5279</td>\n",
       "      <td>47.493</td>\n",
       "      <td>5.233</td>\n",
       "      <td>0.0</td>\n",
       "      <td>155.371</td>\n",
       "      <td>341.685</td>\n",
       "    </tr>\n",
       "    <tr>\n",
       "      <th>Total Bathrooms</th>\n",
       "      <td>10930.0000</td>\n",
       "      <td>1193.071</td>\n",
       "      <td>9.160</td>\n",
       "      <td>0.0</td>\n",
       "      <td>8588.231</td>\n",
       "      <td>13300.000</td>\n",
       "    </tr>\n",
       "  </tbody>\n",
       "</table>\n",
       "</div>"
      ],
      "text/plain": [
       "                        coef    std err       t  P>|t|      [0.025      0.975]\n",
       "const           -525000.0000  94900.000  -5.532    0.0 -711000.000 -339000.000\n",
       "Lot Area              2.0051      0.251   7.975    0.0       1.512       2.498\n",
       "Overall Qual      10660.0000    912.395  11.679    0.0    8866.490   12400.000\n",
       "Total SF             32.3825      1.483  21.839    0.0      29.474      35.291\n",
       "Garage Area          23.8789      4.282   5.577    0.0      15.480      32.278\n",
       "Year Remod/Add      248.5279     47.493   5.233    0.0     155.371     341.685\n",
       "Total Bathrooms   10930.0000   1193.071   9.160    0.0    8588.231   13300.000"
      ]
     },
     "execution_count": 17,
     "metadata": {},
     "output_type": "execute_result"
    }
   ],
   "source": [
    "coef.head(7)"
   ]
  },
  {
   "cell_type": "code",
   "execution_count": 18,
   "metadata": {},
   "outputs": [],
   "source": [
    "coef_display = coef.head(7).T.drop(columns=\"const\").head(1)"
   ]
  },
  {
   "cell_type": "code",
   "execution_count": 19,
   "metadata": {},
   "outputs": [
    {
     "data": {
      "text/html": [
       "<div>\n",
       "<style scoped>\n",
       "    .dataframe tbody tr th:only-of-type {\n",
       "        vertical-align: middle;\n",
       "    }\n",
       "\n",
       "    .dataframe tbody tr th {\n",
       "        vertical-align: top;\n",
       "    }\n",
       "\n",
       "    .dataframe thead th {\n",
       "        text-align: right;\n",
       "    }\n",
       "</style>\n",
       "<table border=\"1\" class=\"dataframe\">\n",
       "  <thead>\n",
       "    <tr style=\"text-align: right;\">\n",
       "      <th></th>\n",
       "      <th>Lot Area</th>\n",
       "      <th>Overall Qual</th>\n",
       "      <th>Total SF</th>\n",
       "      <th>Garage Area</th>\n",
       "      <th>Year Remod/Add</th>\n",
       "      <th>Total Bathrooms</th>\n",
       "    </tr>\n",
       "  </thead>\n",
       "  <tbody>\n",
       "    <tr>\n",
       "      <th>Dollars increase per</th>\n",
       "      <td>2.0051</td>\n",
       "      <td>10660.0</td>\n",
       "      <td>32.3825</td>\n",
       "      <td>23.8789</td>\n",
       "      <td>248.5279</td>\n",
       "      <td>10930.0</td>\n",
       "    </tr>\n",
       "  </tbody>\n",
       "</table>\n",
       "</div>"
      ],
      "text/plain": [
       "                      Lot Area  Overall Qual  Total SF  Garage Area  \\\n",
       "Dollars increase per    2.0051       10660.0   32.3825      23.8789   \n",
       "\n",
       "                      Year Remod/Add  Total Bathrooms  \n",
       "Dollars increase per        248.5279          10930.0  "
      ]
     },
     "execution_count": 19,
     "metadata": {},
     "output_type": "execute_result"
    }
   ],
   "source": [
    "coef_display.rename(index={\"coef\" : \"Dollars increase per\"})"
   ]
  },
  {
   "cell_type": "markdown",
   "metadata": {},
   "source": [
    "Training $R^2$ = 0.904\n",
    "\n",
    "Testing $R^2$ = 0.873"
   ]
  },
  {
   "cell_type": "code",
   "execution_count": 20,
   "metadata": {},
   "outputs": [],
   "source": [
    "y_preds = linreg.predict(X)"
   ]
  },
  {
   "cell_type": "code",
   "execution_count": 21,
   "metadata": {},
   "outputs": [],
   "source": [
    "resids = y - y_preds"
   ]
  },
  {
   "cell_type": "code",
   "execution_count": 22,
   "metadata": {},
   "outputs": [
    {
     "data": {
      "text/plain": [
       "24930.57807994913"
      ]
     },
     "execution_count": 22,
     "metadata": {},
     "output_type": "execute_result"
    }
   ],
   "source": [
    "#RMSE\n",
    "mean_squared_error(y,y_preds,squared=False)"
   ]
  },
  {
   "cell_type": "code",
   "execution_count": 23,
   "metadata": {},
   "outputs": [
    {
     "data": {
      "text/plain": [
       "''"
      ]
     },
     "execution_count": 23,
     "metadata": {},
     "output_type": "execute_result"
    },
    {
     "data": {
      "image/png": "[encoded data removed]",
      "text/plain": [
       "<Figure size 720x432 with 1 Axes>"
      ]
     },
     "metadata": {
      "needs_background": "light"
     },
     "output_type": "display_data"
    }
   ],
   "source": [
    "plt.figure(figsize=(10,6))\n",
    "plt.scatter(linreg.predict(X), resids, s=15, alpha=0.6)\n",
    "plt.axhline(0, color=\"red\")\n",
    "plt.title(\"Production Model Residual Plot\",fontsize=25)\n",
    "plt.xlabel(\"Predicted Sale Price\",fontsize=15)\n",
    "plt.ylabel(\"Residuals (thousands)\",fontsize=15)\n",
    "locs, labels = plt.yticks()\n",
    "plt.ylim(-160000,160000)\n",
    "plt.yticks(ticks=np.arange(-150000,150001,50000),labels=np.arange(-150,151,50))\n",
    ";"
   ]
  },
  {
   "cell_type": "code",
   "execution_count": 24,
   "metadata": {},
   "outputs": [],
   "source": [
    "complete_df = pd.concat([housing_data[xvars],y],axis=1)"
   ]
  },
  {
   "cell_type": "code",
   "execution_count": 25,
   "metadata": {},
   "outputs": [
    {
     "data": {
      "image/png": "[encoded data removed]",
      "text/plain": [
       "<Figure size 288x360 with 1 Axes>"
      ]
     },
     "metadata": {
      "needs_background": "light"
     },
     "output_type": "display_data"
    }
   ],
   "source": [
    "plt.figure(figsize=(4,5))\n",
    "plt.rc(\"font\",size=14)\n",
    "plt.title(\"Correlation of Features with Sale Price\",fontsize=20)\n",
    "sns.heatmap(complete_df.corr()[[\"SalePrice\"]].sort_values(by=\"SalePrice\",ascending=False),\n",
    "            annot=True,\n",
    "            cmap='YlGnBu',\n",
    "            cbar=False,\n",
    "            annot_kws={'fontsize':15,\"weight\":\"bold\"});"
   ]
  },
  {
   "cell_type": "markdown",
   "metadata": {},
   "source": [
    "### Calculating sales prices in training data (need to output .csv w/ header Id,SalePrice)"
   ]
  },
  {
   "cell_type": "code",
   "execution_count": 26,
   "metadata": {},
   "outputs": [],
   "source": [
    "X_kaggle = testing_data[xvars]"
   ]
  },
  {
   "cell_type": "code",
   "execution_count": 27,
   "metadata": {},
   "outputs": [],
   "source": [
    "kaggle_ms_subclass_dummies = pd.get_dummies(testing_data[\"MS SubClass\"],prefix=\"SubClass\")\n",
    "kaggle_ms_subclass_dummies.drop(columns=[\"SubClass_40\"],inplace=True)\n",
    "\n",
    "kaggle_neighborhood_dummies = pd.get_dummies(testing_data[\"Neighborhood\"])\n",
    "kaggle_neighborhood_dummies.drop(columns=[\"Greens\",\"Blueste\"],inplace=True)\n",
    "\n",
    "kaggle_condition_1_dummies = pd.get_dummies(testing_data[\"Condition 1\"])\n",
    "kaggle_condition_1_dummies.drop(columns=[\"RRNe\",\"RRNn\"],inplace=True)\n",
    "\n",
    "kaggle_exter_qual_dummies = pd.get_dummies(testing_data[\"Exter Qual\"],prefix=\"ExQ\")\n",
    "kaggle_exter_qual_dummies.drop(columns=\"ExQ_Fa\",inplace=True)\n",
    "\n",
    "kaggle_kitchen_qual_dummies = pd.get_dummies(testing_data[\"Kitchen Qual\"],prefix=\"Kit\")\n",
    "kaggle_kitchen_qual_dummies.drop(columns=[\"Kit_Fa\",\"Kit_Po\"],inplace=True)"
   ]
  },
  {
   "cell_type": "code",
   "execution_count": 28,
   "metadata": {},
   "outputs": [],
   "source": [
    "#creating matrix for xvars and dummy cells\n",
    "X_kaggle = pd.concat([X_kaggle,\n",
    "kaggle_ms_subclass_dummies,\n",
    "kaggle_neighborhood_dummies,\n",
    "kaggle_condition_1_dummies,\n",
    "kaggle_exter_qual_dummies,\n",
    "kaggle_kitchen_qual_dummies\n",
    "              ], axis=1)"
   ]
  },
  {
   "cell_type": "code",
   "execution_count": 29,
   "metadata": {},
   "outputs": [],
   "source": [
    "#finding differences between train and testing data columns. They need to match for fit to make sense\n",
    "for i,x in enumerate(X_train.columns):\n",
    "    if X_kaggle.columns[i] != x:\n",
    "        print(i,x)\n",
    "    else:\n",
    "        pass"
   ]
  },
  {
   "cell_type": "code",
   "execution_count": 30,
   "metadata": {},
   "outputs": [
    {
     "data": {
      "text/html": [
       "<div>\n",
       "<style scoped>\n",
       "    .dataframe tbody tr th:only-of-type {\n",
       "        vertical-align: middle;\n",
       "    }\n",
       "\n",
       "    .dataframe tbody tr th {\n",
       "        vertical-align: top;\n",
       "    }\n",
       "\n",
       "    .dataframe thead th {\n",
       "        text-align: right;\n",
       "    }\n",
       "</style>\n",
       "<table border=\"1\" class=\"dataframe\">\n",
       "  <thead>\n",
       "    <tr style=\"text-align: right;\">\n",
       "      <th></th>\n",
       "      <th>Id</th>\n",
       "      <th>PID</th>\n",
       "      <th>MS SubClass</th>\n",
       "      <th>MS Zoning</th>\n",
       "      <th>Lot Frontage</th>\n",
       "      <th>Lot Area</th>\n",
       "      <th>Street</th>\n",
       "      <th>Alley</th>\n",
       "      <th>Lot Shape</th>\n",
       "      <th>Land Contour</th>\n",
       "      <th>...</th>\n",
       "      <th>Total SF x Garage Area</th>\n",
       "      <th>Overall Qual^2</th>\n",
       "      <th>Year Remod/Add x Total SF</th>\n",
       "      <th>Total SF^2</th>\n",
       "      <th>Overall Qual x Garage Area</th>\n",
       "      <th>Overall Qual x Total Bathrooms</th>\n",
       "      <th>Total SF x Total Bathrooms</th>\n",
       "      <th>Overall Qual x Year Remod/Add</th>\n",
       "      <th>Total Bathrooms x Garage Area</th>\n",
       "      <th>SalePrice</th>\n",
       "    </tr>\n",
       "  </thead>\n",
       "  <tbody>\n",
       "    <tr>\n",
       "      <th>0</th>\n",
       "      <td>2658</td>\n",
       "      <td>902301120</td>\n",
       "      <td>190</td>\n",
       "      <td>RM</td>\n",
       "      <td>69.0</td>\n",
       "      <td>9142</td>\n",
       "      <td>Pave</td>\n",
       "      <td>Grvl</td>\n",
       "      <td>Reg</td>\n",
       "      <td>Lvl</td>\n",
       "      <td>...</td>\n",
       "      <td>1297120</td>\n",
       "      <td>36</td>\n",
       "      <td>5748600</td>\n",
       "      <td>8690704</td>\n",
       "      <td>2640</td>\n",
       "      <td>12.0</td>\n",
       "      <td>5896.0</td>\n",
       "      <td>11700</td>\n",
       "      <td>880.0</td>\n",
       "      <td>143588.384352</td>\n",
       "    </tr>\n",
       "  </tbody>\n",
       "</table>\n",
       "<p>1 rows × 93 columns</p>\n",
       "</div>"
      ],
      "text/plain": [
       "     Id        PID  MS SubClass MS Zoning  Lot Frontage  Lot Area Street  \\\n",
       "0  2658  902301120          190        RM          69.0      9142   Pave   \n",
       "\n",
       "  Alley Lot Shape Land Contour  ... Total SF x Garage Area Overall Qual^2  \\\n",
       "0  Grvl       Reg          Lvl  ...                1297120             36   \n",
       "\n",
       "  Year Remod/Add x Total SF Total SF^2 Overall Qual x Garage Area  \\\n",
       "0                   5748600    8690704                       2640   \n",
       "\n",
       "  Overall Qual x Total Bathrooms Total SF x Total Bathrooms  \\\n",
       "0                           12.0                     5896.0   \n",
       "\n",
       "  Overall Qual x Year Remod/Add  Total Bathrooms x Garage Area      SalePrice  \n",
       "0                         11700                          880.0  143588.384352  \n",
       "\n",
       "[1 rows x 93 columns]"
      ]
     },
     "execution_count": 30,
     "metadata": {},
     "output_type": "execute_result"
    }
   ],
   "source": [
    "price_X_testing = linreg.predict(X_kaggle)\n",
    "testing_data[\"SalePrice\"] = price_X_testing\n",
    "testing_data.head(1)"
   ]
  },
  {
   "cell_type": "code",
   "execution_count": 33,
   "metadata": {},
   "outputs": [],
   "source": [
    "#not sure why some need to_csv(\"./\") and others need(\"../\")\n",
    "ols_basic_fit = testing_data[[\"Id\",\"SalePrice\"]]\n",
    "ols_basic_fit.to_csv(\"./datasets/ols_production_fit.csv\",index=False)"
   ]
  },
  {
   "cell_type": "code",
   "execution_count": null,
   "metadata": {},
   "outputs": [],
   "source": []
  }
 ],
 "metadata": {
  "kernelspec": {
   "display_name": "Python 3",
   "language": "python",
   "name": "python3"
  },
  "language_info": {
   "codemirror_mode": {
    "name": "ipython",
    "version": 3
   },
   "file_extension": ".py",
   "mimetype": "text/x-python",
   "name": "python",
   "nbconvert_exporter": "python",
   "pygments_lexer": "ipython3",
   "version": "3.7.7"
  }
 },
 "nbformat": 4,
 "nbformat_minor": 4
}
